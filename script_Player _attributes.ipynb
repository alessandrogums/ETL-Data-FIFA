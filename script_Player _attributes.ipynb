{
 "cells": [
  {
   "cell_type": "markdown",
   "metadata": {},
   "source": [
    "### Imports modules and libs"
   ]
  },
  {
   "cell_type": "code",
   "execution_count": 1,
   "metadata": {},
   "outputs": [],
   "source": [
    "import pandas as pd \n",
    "import numpy as np\n",
    "from ConvertFile import Convert_File_to_pd\n",
    "from DataAnalyze import DataAnalyze\n",
    "from AnalyzeDuplicatedData import AnalyzeDuplicatedData\n",
    "from DataTransform import DataTransform\n",
    "from LoadCsvs import LoadCsvs\n",
    "import json\n",
    "\n"
   ]
  },
  {
   "cell_type": "markdown",
   "metadata": {},
   "source": [
    "### Transform CSVs to DFs"
   ]
  },
  {
   "cell_type": "code",
   "execution_count": 2,
   "metadata": {},
   "outputs": [],
   "source": [
    "Data_frame=Convert_File_to_pd(file_name='Player_Attributes',name_table='Data',folder_name='ETL-Data-FIFA')"
   ]
  },
  {
   "cell_type": "code",
   "execution_count": 3,
   "metadata": {},
   "outputs": [],
   "source": [
    "Df=Data_frame.convert_to_dataframe"
   ]
  },
  {
   "cell_type": "markdown",
   "metadata": {},
   "source": [
    "### Exploratory analysis to investigate the possibility of data cleaning"
   ]
  },
  {
   "cell_type": "code",
   "execution_count": 4,
   "metadata": {},
   "outputs": [
    {
     "data": {
      "text/html": [
       "<div>\n",
       "<style scoped>\n",
       "    .dataframe tbody tr th:only-of-type {\n",
       "        vertical-align: middle;\n",
       "    }\n",
       "\n",
       "    .dataframe tbody tr th {\n",
       "        vertical-align: top;\n",
       "    }\n",
       "\n",
       "    .dataframe thead th {\n",
       "        text-align: right;\n",
       "    }\n",
       "</style>\n",
       "<table border=\"1\" class=\"dataframe\">\n",
       "  <thead>\n",
       "    <tr style=\"text-align: right;\">\n",
       "      <th></th>\n",
       "      <th>Unnamed: 0</th>\n",
       "      <th>Player_Attributes</th>\n",
       "    </tr>\n",
       "  </thead>\n",
       "  <tbody>\n",
       "    <tr>\n",
       "      <th>0</th>\n",
       "      <td>0</td>\n",
       "      <td>{\"id\": \"1\", \"player_fifa_api_id\": \"218353\", \"p...</td>\n",
       "    </tr>\n",
       "    <tr>\n",
       "      <th>1</th>\n",
       "      <td>1</td>\n",
       "      <td>{\"id\": \"2\", \"player_fifa_api_id\": \"218353\", \"p...</td>\n",
       "    </tr>\n",
       "    <tr>\n",
       "      <th>2</th>\n",
       "      <td>2</td>\n",
       "      <td>{\"id\": \"3\", \"player_fifa_api_id\": \"218353\", \"p...</td>\n",
       "    </tr>\n",
       "    <tr>\n",
       "      <th>3</th>\n",
       "      <td>3</td>\n",
       "      <td>{\"id\": \"4\", \"player_fifa_api_id\": \"218353\", \"p...</td>\n",
       "    </tr>\n",
       "    <tr>\n",
       "      <th>4</th>\n",
       "      <td>4</td>\n",
       "      <td>{\"id\": \"5\", \"player_fifa_api_id\": \"218353\", \"p...</td>\n",
       "    </tr>\n",
       "    <tr>\n",
       "      <th>...</th>\n",
       "      <td>...</td>\n",
       "      <td>...</td>\n",
       "    </tr>\n",
       "    <tr>\n",
       "      <th>183973</th>\n",
       "      <td>183973</td>\n",
       "      <td>{\"id\": \"183974\", \"player_fifa_api_id\": \"102359...</td>\n",
       "    </tr>\n",
       "    <tr>\n",
       "      <th>183974</th>\n",
       "      <td>183974</td>\n",
       "      <td>{\"id\": \"183975\", \"player_fifa_api_id\": \"102359...</td>\n",
       "    </tr>\n",
       "    <tr>\n",
       "      <th>183975</th>\n",
       "      <td>183975</td>\n",
       "      <td>{\"id\": \"183976\", \"player_fifa_api_id\": \"102359...</td>\n",
       "    </tr>\n",
       "    <tr>\n",
       "      <th>183976</th>\n",
       "      <td>183976</td>\n",
       "      <td>{\"id\": \"183977\", \"player_fifa_api_id\": \"102359...</td>\n",
       "    </tr>\n",
       "    <tr>\n",
       "      <th>183977</th>\n",
       "      <td>183977</td>\n",
       "      <td>{\"id\": \"183978\", \"player_fifa_api_id\": \"102359...</td>\n",
       "    </tr>\n",
       "  </tbody>\n",
       "</table>\n",
       "<p>183978 rows × 2 columns</p>\n",
       "</div>"
      ],
      "text/plain": [
       "        Unnamed: 0                                  Player_Attributes\n",
       "0                0  {\"id\": \"1\", \"player_fifa_api_id\": \"218353\", \"p...\n",
       "1                1  {\"id\": \"2\", \"player_fifa_api_id\": \"218353\", \"p...\n",
       "2                2  {\"id\": \"3\", \"player_fifa_api_id\": \"218353\", \"p...\n",
       "3                3  {\"id\": \"4\", \"player_fifa_api_id\": \"218353\", \"p...\n",
       "4                4  {\"id\": \"5\", \"player_fifa_api_id\": \"218353\", \"p...\n",
       "...            ...                                                ...\n",
       "183973      183973  {\"id\": \"183974\", \"player_fifa_api_id\": \"102359...\n",
       "183974      183974  {\"id\": \"183975\", \"player_fifa_api_id\": \"102359...\n",
       "183975      183975  {\"id\": \"183976\", \"player_fifa_api_id\": \"102359...\n",
       "183976      183976  {\"id\": \"183977\", \"player_fifa_api_id\": \"102359...\n",
       "183977      183977  {\"id\": \"183978\", \"player_fifa_api_id\": \"102359...\n",
       "\n",
       "[183978 rows x 2 columns]"
      ]
     },
     "execution_count": 4,
     "metadata": {},
     "output_type": "execute_result"
    }
   ],
   "source": [
    "#Imprimindo o DataFrame\n",
    "Df"
   ]
  },
  {
   "cell_type": "code",
   "execution_count": 5,
   "metadata": {},
   "outputs": [],
   "source": [
    "#Classe responsável pelas análises exploratórias\n",
    "Results_analysis=DataAnalyze(Df)"
   ]
  },
  {
   "cell_type": "markdown",
   "metadata": {},
   "source": [
    "#### Obs"
   ]
  },
  {
   "cell_type": "code",
   "execution_count": 6,
   "metadata": {},
   "outputs": [],
   "source": [
    "#percebe-se que o campo player_attributes está em formato JSON\n",
    "#é preciso desserializar, com o objetivo de gerar novas colunas a partir de cada chave do JSON\n"
   ]
  },
  {
   "cell_type": "code",
   "execution_count": 7,
   "metadata": {},
   "outputs": [],
   "source": [
    "dici_new_cols={}\n",
    "for k in Df['Player_Attributes']:\n",
    "    x=json.loads(k)\n",
    "    for i in x.keys():\n",
    "        if i not in  dici_new_cols.keys():\n",
    "            dici_new_cols[i]=[x[i]]\n",
    "        else:\n",
    "            dici_new_cols[i].append(x[i])\n",
    "    \n",
    "    "
   ]
  },
  {
   "cell_type": "code",
   "execution_count": 8,
   "metadata": {},
   "outputs": [],
   "source": [
    "#Dropando a coluna que não será mais necessária\n",
    "\n",
    "Df.drop(['Player_Attributes'],axis=1,inplace=True)"
   ]
  },
  {
   "cell_type": "code",
   "execution_count": 9,
   "metadata": {},
   "outputs": [],
   "source": [
    "for x in dici_new_cols.keys():\n",
    "    Df[x]=dici_new_cols[x]"
   ]
  },
  {
   "cell_type": "code",
   "execution_count": 10,
   "metadata": {},
   "outputs": [],
   "source": [
    "Df.drop(['Unnamed: 0'],axis=1,inplace=True)\n"
   ]
  },
  {
   "cell_type": "code",
   "execution_count": 11,
   "metadata": {},
   "outputs": [
    {
     "data": {
      "text/html": [
       "<div>\n",
       "<style scoped>\n",
       "    .dataframe tbody tr th:only-of-type {\n",
       "        vertical-align: middle;\n",
       "    }\n",
       "\n",
       "    .dataframe tbody tr th {\n",
       "        vertical-align: top;\n",
       "    }\n",
       "\n",
       "    .dataframe thead th {\n",
       "        text-align: right;\n",
       "    }\n",
       "</style>\n",
       "<table border=\"1\" class=\"dataframe\">\n",
       "  <thead>\n",
       "    <tr style=\"text-align: right;\">\n",
       "      <th></th>\n",
       "      <th>id</th>\n",
       "      <th>player_fifa_api_id</th>\n",
       "      <th>player_api_id</th>\n",
       "      <th>date</th>\n",
       "      <th>overall_rating</th>\n",
       "      <th>potential</th>\n",
       "      <th>preferred_foot</th>\n",
       "      <th>attacking_work_rate</th>\n",
       "      <th>defensive_work_rate</th>\n",
       "      <th>crossing</th>\n",
       "      <th>...</th>\n",
       "      <th>vision</th>\n",
       "      <th>penalties</th>\n",
       "      <th>marking</th>\n",
       "      <th>standing_tackle</th>\n",
       "      <th>sliding_tackle</th>\n",
       "      <th>gk_diving</th>\n",
       "      <th>gk_handling</th>\n",
       "      <th>gk_kicking</th>\n",
       "      <th>gk_positioning</th>\n",
       "      <th>gk_reflexes</th>\n",
       "    </tr>\n",
       "  </thead>\n",
       "  <tbody>\n",
       "    <tr>\n",
       "      <th>0</th>\n",
       "      <td>1</td>\n",
       "      <td>218353</td>\n",
       "      <td>505942</td>\n",
       "      <td>2016-02-18 00:00:00</td>\n",
       "      <td>67.0</td>\n",
       "      <td>71.0</td>\n",
       "      <td>right</td>\n",
       "      <td>medium</td>\n",
       "      <td>medium</td>\n",
       "      <td>49.0</td>\n",
       "      <td>...</td>\n",
       "      <td>54.0</td>\n",
       "      <td>48.0</td>\n",
       "      <td>65.0</td>\n",
       "      <td>69.0</td>\n",
       "      <td>69.0</td>\n",
       "      <td>6.0</td>\n",
       "      <td>11.0</td>\n",
       "      <td>10.0</td>\n",
       "      <td>8.0</td>\n",
       "      <td>8.0</td>\n",
       "    </tr>\n",
       "    <tr>\n",
       "      <th>1</th>\n",
       "      <td>2</td>\n",
       "      <td>218353</td>\n",
       "      <td>505942</td>\n",
       "      <td>2015-11-19 00:00:00</td>\n",
       "      <td>67.0</td>\n",
       "      <td>71.0</td>\n",
       "      <td>right</td>\n",
       "      <td>medium</td>\n",
       "      <td>medium</td>\n",
       "      <td>49.0</td>\n",
       "      <td>...</td>\n",
       "      <td>54.0</td>\n",
       "      <td>48.0</td>\n",
       "      <td>65.0</td>\n",
       "      <td>69.0</td>\n",
       "      <td>69.0</td>\n",
       "      <td>6.0</td>\n",
       "      <td>11.0</td>\n",
       "      <td>10.0</td>\n",
       "      <td>8.0</td>\n",
       "      <td>8.0</td>\n",
       "    </tr>\n",
       "    <tr>\n",
       "      <th>2</th>\n",
       "      <td>3</td>\n",
       "      <td>218353</td>\n",
       "      <td>505942</td>\n",
       "      <td>2015-09-21 00:00:00</td>\n",
       "      <td>62.0</td>\n",
       "      <td>66.0</td>\n",
       "      <td>right</td>\n",
       "      <td>medium</td>\n",
       "      <td>medium</td>\n",
       "      <td>49.0</td>\n",
       "      <td>...</td>\n",
       "      <td>54.0</td>\n",
       "      <td>48.0</td>\n",
       "      <td>65.0</td>\n",
       "      <td>66.0</td>\n",
       "      <td>69.0</td>\n",
       "      <td>6.0</td>\n",
       "      <td>11.0</td>\n",
       "      <td>10.0</td>\n",
       "      <td>8.0</td>\n",
       "      <td>8.0</td>\n",
       "    </tr>\n",
       "    <tr>\n",
       "      <th>3</th>\n",
       "      <td>4</td>\n",
       "      <td>218353</td>\n",
       "      <td>505942</td>\n",
       "      <td>2015-03-20 00:00:00</td>\n",
       "      <td>61.0</td>\n",
       "      <td>65.0</td>\n",
       "      <td>right</td>\n",
       "      <td>medium</td>\n",
       "      <td>medium</td>\n",
       "      <td>48.0</td>\n",
       "      <td>...</td>\n",
       "      <td>53.0</td>\n",
       "      <td>47.0</td>\n",
       "      <td>62.0</td>\n",
       "      <td>63.0</td>\n",
       "      <td>66.0</td>\n",
       "      <td>5.0</td>\n",
       "      <td>10.0</td>\n",
       "      <td>9.0</td>\n",
       "      <td>7.0</td>\n",
       "      <td>7.0</td>\n",
       "    </tr>\n",
       "    <tr>\n",
       "      <th>4</th>\n",
       "      <td>5</td>\n",
       "      <td>218353</td>\n",
       "      <td>505942</td>\n",
       "      <td>2007-02-22 00:00:00</td>\n",
       "      <td>61.0</td>\n",
       "      <td>65.0</td>\n",
       "      <td>right</td>\n",
       "      <td>medium</td>\n",
       "      <td>medium</td>\n",
       "      <td>48.0</td>\n",
       "      <td>...</td>\n",
       "      <td>53.0</td>\n",
       "      <td>47.0</td>\n",
       "      <td>62.0</td>\n",
       "      <td>63.0</td>\n",
       "      <td>66.0</td>\n",
       "      <td>5.0</td>\n",
       "      <td>10.0</td>\n",
       "      <td>9.0</td>\n",
       "      <td>7.0</td>\n",
       "      <td>7.0</td>\n",
       "    </tr>\n",
       "    <tr>\n",
       "      <th>...</th>\n",
       "      <td>...</td>\n",
       "      <td>...</td>\n",
       "      <td>...</td>\n",
       "      <td>...</td>\n",
       "      <td>...</td>\n",
       "      <td>...</td>\n",
       "      <td>...</td>\n",
       "      <td>...</td>\n",
       "      <td>...</td>\n",
       "      <td>...</td>\n",
       "      <td>...</td>\n",
       "      <td>...</td>\n",
       "      <td>...</td>\n",
       "      <td>...</td>\n",
       "      <td>...</td>\n",
       "      <td>...</td>\n",
       "      <td>...</td>\n",
       "      <td>...</td>\n",
       "      <td>...</td>\n",
       "      <td>...</td>\n",
       "      <td>...</td>\n",
       "    </tr>\n",
       "    <tr>\n",
       "      <th>183973</th>\n",
       "      <td>183974</td>\n",
       "      <td>102359</td>\n",
       "      <td>39902</td>\n",
       "      <td>2009-08-30 00:00:00</td>\n",
       "      <td>83.0</td>\n",
       "      <td>85.0</td>\n",
       "      <td>right</td>\n",
       "      <td>medium</td>\n",
       "      <td>low</td>\n",
       "      <td>84.0</td>\n",
       "      <td>...</td>\n",
       "      <td>88.0</td>\n",
       "      <td>83.0</td>\n",
       "      <td>22.0</td>\n",
       "      <td>31.0</td>\n",
       "      <td>30.0</td>\n",
       "      <td>9.0</td>\n",
       "      <td>20.0</td>\n",
       "      <td>84.0</td>\n",
       "      <td>20.0</td>\n",
       "      <td>20.0</td>\n",
       "    </tr>\n",
       "    <tr>\n",
       "      <th>183974</th>\n",
       "      <td>183975</td>\n",
       "      <td>102359</td>\n",
       "      <td>39902</td>\n",
       "      <td>2009-02-22 00:00:00</td>\n",
       "      <td>78.0</td>\n",
       "      <td>80.0</td>\n",
       "      <td>right</td>\n",
       "      <td>medium</td>\n",
       "      <td>low</td>\n",
       "      <td>74.0</td>\n",
       "      <td>...</td>\n",
       "      <td>88.0</td>\n",
       "      <td>70.0</td>\n",
       "      <td>32.0</td>\n",
       "      <td>31.0</td>\n",
       "      <td>30.0</td>\n",
       "      <td>9.0</td>\n",
       "      <td>20.0</td>\n",
       "      <td>73.0</td>\n",
       "      <td>20.0</td>\n",
       "      <td>20.0</td>\n",
       "    </tr>\n",
       "    <tr>\n",
       "      <th>183975</th>\n",
       "      <td>183976</td>\n",
       "      <td>102359</td>\n",
       "      <td>39902</td>\n",
       "      <td>2008-08-30 00:00:00</td>\n",
       "      <td>77.0</td>\n",
       "      <td>80.0</td>\n",
       "      <td>right</td>\n",
       "      <td>medium</td>\n",
       "      <td>low</td>\n",
       "      <td>74.0</td>\n",
       "      <td>...</td>\n",
       "      <td>88.0</td>\n",
       "      <td>70.0</td>\n",
       "      <td>32.0</td>\n",
       "      <td>31.0</td>\n",
       "      <td>30.0</td>\n",
       "      <td>9.0</td>\n",
       "      <td>20.0</td>\n",
       "      <td>73.0</td>\n",
       "      <td>20.0</td>\n",
       "      <td>20.0</td>\n",
       "    </tr>\n",
       "    <tr>\n",
       "      <th>183976</th>\n",
       "      <td>183977</td>\n",
       "      <td>102359</td>\n",
       "      <td>39902</td>\n",
       "      <td>2007-08-30 00:00:00</td>\n",
       "      <td>78.0</td>\n",
       "      <td>81.0</td>\n",
       "      <td>right</td>\n",
       "      <td>medium</td>\n",
       "      <td>low</td>\n",
       "      <td>74.0</td>\n",
       "      <td>...</td>\n",
       "      <td>88.0</td>\n",
       "      <td>53.0</td>\n",
       "      <td>28.0</td>\n",
       "      <td>32.0</td>\n",
       "      <td>30.0</td>\n",
       "      <td>9.0</td>\n",
       "      <td>20.0</td>\n",
       "      <td>73.0</td>\n",
       "      <td>20.0</td>\n",
       "      <td>20.0</td>\n",
       "    </tr>\n",
       "    <tr>\n",
       "      <th>183977</th>\n",
       "      <td>183978</td>\n",
       "      <td>102359</td>\n",
       "      <td>39902</td>\n",
       "      <td>2007-02-22 00:00:00</td>\n",
       "      <td>80.0</td>\n",
       "      <td>81.0</td>\n",
       "      <td>right</td>\n",
       "      <td>medium</td>\n",
       "      <td>low</td>\n",
       "      <td>74.0</td>\n",
       "      <td>...</td>\n",
       "      <td>88.0</td>\n",
       "      <td>53.0</td>\n",
       "      <td>38.0</td>\n",
       "      <td>32.0</td>\n",
       "      <td>30.0</td>\n",
       "      <td>9.0</td>\n",
       "      <td>9.0</td>\n",
       "      <td>78.0</td>\n",
       "      <td>7.0</td>\n",
       "      <td>15.0</td>\n",
       "    </tr>\n",
       "  </tbody>\n",
       "</table>\n",
       "<p>183978 rows × 42 columns</p>\n",
       "</div>"
      ],
      "text/plain": [
       "            id player_fifa_api_id player_api_id                 date  \\\n",
       "0            1             218353        505942  2016-02-18 00:00:00   \n",
       "1            2             218353        505942  2015-11-19 00:00:00   \n",
       "2            3             218353        505942  2015-09-21 00:00:00   \n",
       "3            4             218353        505942  2015-03-20 00:00:00   \n",
       "4            5             218353        505942  2007-02-22 00:00:00   \n",
       "...        ...                ...           ...                  ...   \n",
       "183973  183974             102359         39902  2009-08-30 00:00:00   \n",
       "183974  183975             102359         39902  2009-02-22 00:00:00   \n",
       "183975  183976             102359         39902  2008-08-30 00:00:00   \n",
       "183976  183977             102359         39902  2007-08-30 00:00:00   \n",
       "183977  183978             102359         39902  2007-02-22 00:00:00   \n",
       "\n",
       "        overall_rating  potential preferred_foot attacking_work_rate  \\\n",
       "0                 67.0       71.0          right              medium   \n",
       "1                 67.0       71.0          right              medium   \n",
       "2                 62.0       66.0          right              medium   \n",
       "3                 61.0       65.0          right              medium   \n",
       "4                 61.0       65.0          right              medium   \n",
       "...                ...        ...            ...                 ...   \n",
       "183973            83.0       85.0          right              medium   \n",
       "183974            78.0       80.0          right              medium   \n",
       "183975            77.0       80.0          right              medium   \n",
       "183976            78.0       81.0          right              medium   \n",
       "183977            80.0       81.0          right              medium   \n",
       "\n",
       "       defensive_work_rate  crossing  ...  vision  penalties  marking  \\\n",
       "0                   medium      49.0  ...    54.0       48.0     65.0   \n",
       "1                   medium      49.0  ...    54.0       48.0     65.0   \n",
       "2                   medium      49.0  ...    54.0       48.0     65.0   \n",
       "3                   medium      48.0  ...    53.0       47.0     62.0   \n",
       "4                   medium      48.0  ...    53.0       47.0     62.0   \n",
       "...                    ...       ...  ...     ...        ...      ...   \n",
       "183973                 low      84.0  ...    88.0       83.0     22.0   \n",
       "183974                 low      74.0  ...    88.0       70.0     32.0   \n",
       "183975                 low      74.0  ...    88.0       70.0     32.0   \n",
       "183976                 low      74.0  ...    88.0       53.0     28.0   \n",
       "183977                 low      74.0  ...    88.0       53.0     38.0   \n",
       "\n",
       "        standing_tackle  sliding_tackle  gk_diving  gk_handling  gk_kicking  \\\n",
       "0                  69.0            69.0        6.0         11.0        10.0   \n",
       "1                  69.0            69.0        6.0         11.0        10.0   \n",
       "2                  66.0            69.0        6.0         11.0        10.0   \n",
       "3                  63.0            66.0        5.0         10.0         9.0   \n",
       "4                  63.0            66.0        5.0         10.0         9.0   \n",
       "...                 ...             ...        ...          ...         ...   \n",
       "183973             31.0            30.0        9.0         20.0        84.0   \n",
       "183974             31.0            30.0        9.0         20.0        73.0   \n",
       "183975             31.0            30.0        9.0         20.0        73.0   \n",
       "183976             32.0            30.0        9.0         20.0        73.0   \n",
       "183977             32.0            30.0        9.0          9.0        78.0   \n",
       "\n",
       "        gk_positioning  gk_reflexes  \n",
       "0                  8.0          8.0  \n",
       "1                  8.0          8.0  \n",
       "2                  8.0          8.0  \n",
       "3                  7.0          7.0  \n",
       "4                  7.0          7.0  \n",
       "...                ...          ...  \n",
       "183973            20.0         20.0  \n",
       "183974            20.0         20.0  \n",
       "183975            20.0         20.0  \n",
       "183976            20.0         20.0  \n",
       "183977             7.0         15.0  \n",
       "\n",
       "[183978 rows x 42 columns]"
      ]
     },
     "execution_count": 11,
     "metadata": {},
     "output_type": "execute_result"
    }
   ],
   "source": [
    "Df"
   ]
  },
  {
   "cell_type": "markdown",
   "metadata": {},
   "source": [
    "#### Detect NaNs"
   ]
  },
  {
   "cell_type": "code",
   "execution_count": 12,
   "metadata": {},
   "outputs": [
    {
     "data": {
      "text/plain": [
       "'lista  indices contendo nans: []'"
      ]
     },
     "execution_count": 12,
     "metadata": {},
     "output_type": "execute_result"
    }
   ],
   "source": [
    "# No objetivo de não ferir a integridade de domínio quando estes dados forem carregados em um bd, o id não pode ter campos nulos ou NaN\n",
    "Results_analysis.detect_nans(name_column='id')\n"
   ]
  },
  {
   "cell_type": "code",
   "execution_count": 13,
   "metadata": {},
   "outputs": [
    {
     "data": {
      "text/plain": [
       "'lista  indices contendo nans: []'"
      ]
     },
     "execution_count": 13,
     "metadata": {},
     "output_type": "execute_result"
    }
   ],
   "source": [
    "#Fazend isso para player_api_id \n",
    "Results_analysis.detect_nans(name_column='player_api_id')"
   ]
  },
  {
   "cell_type": "code",
   "execution_count": 14,
   "metadata": {},
   "outputs": [
    {
     "data": {
      "text/plain": [
       "'lista  indices contendo nans: []'"
      ]
     },
     "execution_count": 14,
     "metadata": {},
     "output_type": "execute_result"
    }
   ],
   "source": [
    "#Fazend isso para player_fifa_api_id\t\n",
    "Results_analysis.detect_nans(name_column='player_fifa_api_id')"
   ]
  },
  {
   "cell_type": "markdown",
   "metadata": {},
   "source": [
    "#### Detect Data Duplicated"
   ]
  },
  {
   "cell_type": "code",
   "execution_count": 15,
   "metadata": {},
   "outputs": [],
   "source": [
    "#além disso, é necessário avaliar os registros duplicados quando a coluna não pode contê-los, como é o caso das colunas acima \n",
    "Result_dup_id=AnalyzeDuplicatedData(dataframe=Df,name_col_data='id')\n",
    "Result_dup_player_api_id=AnalyzeDuplicatedData(dataframe=Df,name_col_data='player_api_id')\n",
    "Result_dup_player_fifa_api_id=AnalyzeDuplicatedData(dataframe=Df,name_col_data='player_fifa_api_id')"
   ]
  },
  {
   "cell_type": "code",
   "execution_count": 16,
   "metadata": {},
   "outputs": [
    {
     "name": "stdout",
     "output_type": "stream",
     "text": [
      "a quantidade de dados duplicados da tabela Player  na coluna id são 0\n",
      "a quantidade de dados duplicados da tabela Player  na coluna player_api_id são 172918\n",
      "a quantidade de dados duplicados da tabela Player  na coluna player_fifa_api_id são 172916\n"
     ]
    }
   ],
   "source": [
    "Result_dup_id.print_duplicated_data(table_name='Player')\n",
    "Result_dup_player_api_id.print_duplicated_data(table_name='Player')\n",
    "Result_dup_player_fifa_api_id.print_duplicated_data(table_name='Player')"
   ]
  },
  {
   "cell_type": "markdown",
   "metadata": {},
   "source": [
    "#### Identify Outliers"
   ]
  },
  {
   "cell_type": "code",
   "execution_count": 20,
   "metadata": {},
   "outputs": [],
   "source": [
    "#Analisando as colunas cujos o tipo variável é continua\n",
    "# os valores para as esses colunas podem ir de 0 a 100, pois são parâmetros relacionados aos atributos do jogador\n",
    "list_att=Df.columns.tolist()\n"
   ]
  },
  {
   "cell_type": "code",
   "execution_count": 24,
   "metadata": {},
   "outputs": [],
   "source": [
    "list_att_cont_cols=list_att[list_att.index(\"overall_rating\"):list_att.index(\"overall_rating\")+2]+list_att[list_att.index(\"crossing\"):]"
   ]
  },
  {
   "cell_type": "code",
   "execution_count": null,
   "metadata": {},
   "outputs": [],
   "source": [
    "#Fazendo isso utilizando IQR"
   ]
  },
  {
   "cell_type": "code",
   "execution_count": 26,
   "metadata": {},
   "outputs": [
    {
     "name": "stdout",
     "output_type": "stream",
     "text": [
      "[]\n",
      "[]\n",
      "[]\n",
      "[]\n",
      "[]\n",
      "[]\n",
      "[]\n",
      "[]\n",
      "[]\n",
      "[]\n",
      "[]\n",
      "[]\n",
      "[]\n",
      "[]\n",
      "[]\n",
      "[]\n",
      "[]\n",
      "[]\n",
      "[]\n",
      "[]\n",
      "[]\n",
      "[]\n",
      "[]\n",
      "[]\n",
      "[]\n",
      "[]\n",
      "[]\n",
      "[]\n",
      "[]\n",
      "[]\n",
      "[]\n",
      "[]\n",
      "[]\n",
      "[]\n",
      "[]\n"
     ]
    }
   ],
   "source": [
    "for col in list_att_cont_cols:\n",
    "    outliers=Results_analysis.identify_outliers_IQR(name_column=col)\n",
    "    print(outliers)"
   ]
  },
  {
   "cell_type": "markdown",
   "metadata": {},
   "source": [
    "### Analyze  typing"
   ]
  },
  {
   "cell_type": "code",
   "execution_count": null,
   "metadata": {},
   "outputs": [],
   "source": [
    "#analisando a tipagem esperada de forma geral\n",
    "Df.info()\n"
   ]
  },
  {
   "cell_type": "code",
   "execution_count": null,
   "metadata": {},
   "outputs": [],
   "source": [
    "#Analisando os dados, todos fornecerem a tipagem esperada para eventualmente serem inseridos no bd\n",
    "#Exceto na coluna de birthday, onde é necessário avaliar  se a estrutura(formato) da data corresponde aos padrãoes de data\n",
    "\n",
    "Results_analysis.analyze_typing_expected_timestamp(name_column='birthday')\n"
   ]
  },
  {
   "cell_type": "code",
   "execution_count": null,
   "metadata": {},
   "outputs": [],
   "source": [
    "#Fora a coluna de name também\n",
    "\n",
    "Results_analysis.confirm_typing(name_column='player_name',type_expected='str')\n",
    "\n",
    "#Como a lista veio vazia, todos os dados estão coerentes como str"
   ]
  },
  {
   "cell_type": "markdown",
   "metadata": {},
   "source": [
    "### Data transform "
   ]
  },
  {
   "cell_type": "code",
   "execution_count": null,
   "metadata": {},
   "outputs": [],
   "source": [
    "#Como não houve acontecimento de NaNs, dados duplicados, outliers e tipagens fora do escopo, o Df já está devidamente tratado\n",
    "Data_Transf=Df.copy()\n"
   ]
  },
  {
   "cell_type": "code",
   "execution_count": null,
   "metadata": {},
   "outputs": [],
   "source": [
    "Data_Transf"
   ]
  }
 ],
 "metadata": {
  "kernelspec": {
   "display_name": "Python 3.9.7 ('base')",
   "language": "python",
   "name": "python3"
  },
  "language_info": {
   "codemirror_mode": {
    "name": "ipython",
    "version": 3
   },
   "file_extension": ".py",
   "mimetype": "text/x-python",
   "name": "python",
   "nbconvert_exporter": "python",
   "pygments_lexer": "ipython3",
   "version": "3.9.7"
  },
  "orig_nbformat": 4,
  "vscode": {
   "interpreter": {
    "hash": "03807dcc214718de3fef1abbc62da4d562d2ddd650787426faadb17d03c3a4b6"
   }
  }
 },
 "nbformat": 4,
 "nbformat_minor": 2
}

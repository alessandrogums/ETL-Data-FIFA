{
 "cells": [
  {
   "cell_type": "markdown",
   "metadata": {},
   "source": [
    "### Imports modules and libs"
   ]
  },
  {
   "cell_type": "code",
   "execution_count": 1,
   "metadata": {},
   "outputs": [],
   "source": [
    "import pandas as pd \n",
    "import numpy as np\n",
    "from ConvertFile import Convert_File_to_pd\n",
    "from DataAnalyze import DataAnalyze\n",
    "from AnalyzeDuplicatedData import AnalyzeDuplicatedData\n",
    "from DataTransform import DataTransform\n",
    "\n"
   ]
  },
  {
   "cell_type": "markdown",
   "metadata": {},
   "source": [
    "### Transform CSVs to DFs"
   ]
  },
  {
   "cell_type": "code",
   "execution_count": 2,
   "metadata": {},
   "outputs": [],
   "source": [
    "Data_frame=Convert_File_to_pd(file_name='Player_Attributes',name_table='Data',folder_name='ETL-Data-FIFA')"
   ]
  },
  {
   "cell_type": "code",
   "execution_count": 3,
   "metadata": {},
   "outputs": [],
   "source": [
    "Df=Data_frame.convert_to_dataframe"
   ]
  },
  {
   "cell_type": "markdown",
   "metadata": {},
   "source": [
    "### Exploratory analysis to investigate the possibility of data cleaning"
   ]
  },
  {
   "cell_type": "code",
   "execution_count": 4,
   "metadata": {},
   "outputs": [
    {
     "data": {
      "text/html": [
       "<div>\n",
       "<style scoped>\n",
       "    .dataframe tbody tr th:only-of-type {\n",
       "        vertical-align: middle;\n",
       "    }\n",
       "\n",
       "    .dataframe tbody tr th {\n",
       "        vertical-align: top;\n",
       "    }\n",
       "\n",
       "    .dataframe thead th {\n",
       "        text-align: right;\n",
       "    }\n",
       "</style>\n",
       "<table border=\"1\" class=\"dataframe\">\n",
       "  <thead>\n",
       "    <tr style=\"text-align: right;\">\n",
       "      <th></th>\n",
       "      <th>Unnamed: 0</th>\n",
       "      <th>Player_Attributes</th>\n",
       "    </tr>\n",
       "  </thead>\n",
       "  <tbody>\n",
       "    <tr>\n",
       "      <th>0</th>\n",
       "      <td>0</td>\n",
       "      <td>{\"id\": \"1\", \"player_fifa_api_id\": \"218353\", \"p...</td>\n",
       "    </tr>\n",
       "    <tr>\n",
       "      <th>1</th>\n",
       "      <td>1</td>\n",
       "      <td>{\"id\": \"2\", \"player_fifa_api_id\": \"218353\", \"p...</td>\n",
       "    </tr>\n",
       "    <tr>\n",
       "      <th>2</th>\n",
       "      <td>2</td>\n",
       "      <td>{\"id\": \"3\", \"player_fifa_api_id\": \"218353\", \"p...</td>\n",
       "    </tr>\n",
       "    <tr>\n",
       "      <th>3</th>\n",
       "      <td>3</td>\n",
       "      <td>{\"id\": \"4\", \"player_fifa_api_id\": \"218353\", \"p...</td>\n",
       "    </tr>\n",
       "    <tr>\n",
       "      <th>4</th>\n",
       "      <td>4</td>\n",
       "      <td>{\"id\": \"5\", \"player_fifa_api_id\": \"218353\", \"p...</td>\n",
       "    </tr>\n",
       "    <tr>\n",
       "      <th>...</th>\n",
       "      <td>...</td>\n",
       "      <td>...</td>\n",
       "    </tr>\n",
       "    <tr>\n",
       "      <th>183973</th>\n",
       "      <td>183973</td>\n",
       "      <td>{\"id\": \"183974\", \"player_fifa_api_id\": \"102359...</td>\n",
       "    </tr>\n",
       "    <tr>\n",
       "      <th>183974</th>\n",
       "      <td>183974</td>\n",
       "      <td>{\"id\": \"183975\", \"player_fifa_api_id\": \"102359...</td>\n",
       "    </tr>\n",
       "    <tr>\n",
       "      <th>183975</th>\n",
       "      <td>183975</td>\n",
       "      <td>{\"id\": \"183976\", \"player_fifa_api_id\": \"102359...</td>\n",
       "    </tr>\n",
       "    <tr>\n",
       "      <th>183976</th>\n",
       "      <td>183976</td>\n",
       "      <td>{\"id\": \"183977\", \"player_fifa_api_id\": \"102359...</td>\n",
       "    </tr>\n",
       "    <tr>\n",
       "      <th>183977</th>\n",
       "      <td>183977</td>\n",
       "      <td>{\"id\": \"183978\", \"player_fifa_api_id\": \"102359...</td>\n",
       "    </tr>\n",
       "  </tbody>\n",
       "</table>\n",
       "<p>183978 rows × 2 columns</p>\n",
       "</div>"
      ],
      "text/plain": [
       "        Unnamed: 0                                  Player_Attributes\n",
       "0                0  {\"id\": \"1\", \"player_fifa_api_id\": \"218353\", \"p...\n",
       "1                1  {\"id\": \"2\", \"player_fifa_api_id\": \"218353\", \"p...\n",
       "2                2  {\"id\": \"3\", \"player_fifa_api_id\": \"218353\", \"p...\n",
       "3                3  {\"id\": \"4\", \"player_fifa_api_id\": \"218353\", \"p...\n",
       "4                4  {\"id\": \"5\", \"player_fifa_api_id\": \"218353\", \"p...\n",
       "...            ...                                                ...\n",
       "183973      183973  {\"id\": \"183974\", \"player_fifa_api_id\": \"102359...\n",
       "183974      183974  {\"id\": \"183975\", \"player_fifa_api_id\": \"102359...\n",
       "183975      183975  {\"id\": \"183976\", \"player_fifa_api_id\": \"102359...\n",
       "183976      183976  {\"id\": \"183977\", \"player_fifa_api_id\": \"102359...\n",
       "183977      183977  {\"id\": \"183978\", \"player_fifa_api_id\": \"102359...\n",
       "\n",
       "[183978 rows x 2 columns]"
      ]
     },
     "execution_count": 4,
     "metadata": {},
     "output_type": "execute_result"
    }
   ],
   "source": [
    "#Imprimindo o DataFrame\n",
    "Df"
   ]
  },
  {
   "cell_type": "code",
   "execution_count": null,
   "metadata": {},
   "outputs": [],
   "source": [
    "#Classe responsável pelas análises exploratórias\n",
    "Results_analysis=DataAnalyze(Df)"
   ]
  },
  {
   "cell_type": "markdown",
   "metadata": {},
   "source": [
    "#### Detect NaNs"
   ]
  },
  {
   "cell_type": "code",
   "execution_count": null,
   "metadata": {},
   "outputs": [],
   "source": [
    "# No objetivo de não ferir a integridade de domínio quando estes dados forem carregados em um bd, o id não pode ter campos nulos ou NaN\n",
    "Results_analysis.detect_nans(name_column='id')\n"
   ]
  },
  {
   "cell_type": "code",
   "execution_count": null,
   "metadata": {},
   "outputs": [],
   "source": [
    "#Fazend isso para player_api_id \n",
    "Results_analysis.detect_nans(name_column='player_api_id')"
   ]
  },
  {
   "cell_type": "code",
   "execution_count": null,
   "metadata": {},
   "outputs": [],
   "source": [
    "#Fazend isso para player_fifa_api_id\t\n",
    "Results_analysis.detect_nans(name_column='player_fifa_api_id')"
   ]
  },
  {
   "cell_type": "markdown",
   "metadata": {},
   "source": [
    "#### Detect Data Duplicated"
   ]
  },
  {
   "cell_type": "code",
   "execution_count": null,
   "metadata": {},
   "outputs": [],
   "source": [
    "#além disso, é necessário avaliar os registros duplicados quando a coluna não pode contê-los, como é o caso das colunas acima \n",
    "Result_dup_id=AnalyzeDuplicatedData(dataframe=Df,name_col_data='id')\n",
    "Result_dup_player_api_id=AnalyzeDuplicatedData(dataframe=Df,name_col_data='player_api_id')\n",
    "Result_dup_player_fifa_api_id=AnalyzeDuplicatedData(dataframe=Df,name_col_data='player_fifa_api_id')"
   ]
  },
  {
   "cell_type": "code",
   "execution_count": null,
   "metadata": {},
   "outputs": [],
   "source": [
    "Result_dup_id.print_duplicated_data(table_name='Player')\n",
    "Result_dup_player_api_id.print_duplicated_data(table_name='Player')\n",
    "Result_dup_player_fifa_api_id.print_duplicated_data(table_name='Player')"
   ]
  },
  {
   "cell_type": "markdown",
   "metadata": {},
   "source": [
    "#### Identify Outliers"
   ]
  },
  {
   "cell_type": "code",
   "execution_count": null,
   "metadata": {},
   "outputs": [],
   "source": [
    "#Como peso e altura são variáveis quantitativas contínuas, ou seja, permitem somente valores em uma escala contínua (na reta real)\n",
    "#É necessário analisa-las\n"
   ]
  },
  {
   "cell_type": "markdown",
   "metadata": {},
   "source": [
    "##### Height"
   ]
  },
  {
   "cell_type": "code",
   "execution_count": null,
   "metadata": {},
   "outputs": [],
   "source": [
    "#Analisando pelo modelo estatístico  do Z-Score modificado a altura\n",
    "Results_analysis.identify_outliers_z_score_mod(name_column='height')"
   ]
  },
  {
   "cell_type": "code",
   "execution_count": null,
   "metadata": {},
   "outputs": [],
   "source": [
    "#Pelo IQR\n",
    "Results_analysis.identify_outliers_IQR(name_column='height')"
   ]
  },
  {
   "cell_type": "code",
   "execution_count": null,
   "metadata": {},
   "outputs": [],
   "source": [
    "#Percebe-se logo que somente o  IQR identificou mais valores atípico(outliers) na série \n",
    "#Porém analisando cada um, todos encontram-se na faixa coerente de alturas"
   ]
  },
  {
   "cell_type": "markdown",
   "metadata": {},
   "source": [
    "##### Weight"
   ]
  },
  {
   "cell_type": "code",
   "execution_count": null,
   "metadata": {},
   "outputs": [],
   "source": [
    "#Analisando pelo modelo estatístico  do Z-Score modificado  para o peso\n",
    "Results_analysis.identify_outliers_z_score_mod(name_column='weight')"
   ]
  },
  {
   "cell_type": "code",
   "execution_count": null,
   "metadata": {},
   "outputs": [],
   "source": [
    "Results_analysis.identify_outliers_IQR(name_column='weight')"
   ]
  },
  {
   "cell_type": "code",
   "execution_count": null,
   "metadata": {},
   "outputs": [],
   "source": [
    "#Assim como a altura, não existem dados distoantes da realidade para o peso, mesmo avaliando nesses dois módelos de outliers\n"
   ]
  },
  {
   "cell_type": "markdown",
   "metadata": {},
   "source": [
    "### Analyze  typing"
   ]
  },
  {
   "cell_type": "code",
   "execution_count": null,
   "metadata": {},
   "outputs": [],
   "source": [
    "#analisando a tipagem esperada de forma geral\n",
    "Df.info()\n"
   ]
  },
  {
   "cell_type": "code",
   "execution_count": null,
   "metadata": {},
   "outputs": [],
   "source": [
    "#Analisando os dados, todos fornecerem a tipagem esperada para eventualmente serem inseridos no bd\n",
    "#Exceto na coluna de birthday, onde é necessário avaliar  se a estrutura(formato) da data corresponde aos padrãoes de data\n",
    "\n",
    "Results_analysis.analyze_typing_expected_timestamp(name_column='birthday')\n"
   ]
  },
  {
   "cell_type": "code",
   "execution_count": null,
   "metadata": {},
   "outputs": [],
   "source": [
    "#Fora a coluna de name também\n",
    "\n",
    "Results_analysis.confirm_typing(name_column='player_name',type_expected='str')\n",
    "\n",
    "#Como a lista veio vazia, todos os dados estão coerentes como str"
   ]
  },
  {
   "cell_type": "markdown",
   "metadata": {},
   "source": [
    "### Data transform "
   ]
  },
  {
   "cell_type": "code",
   "execution_count": null,
   "metadata": {},
   "outputs": [],
   "source": [
    "#Como não houve acontecimento de NaNs, dados duplicados, outliers e tipagens fora do escopo, o Df já está devidamente tratado\n",
    "Data_Transf=Df.copy()\n"
   ]
  },
  {
   "cell_type": "code",
   "execution_count": null,
   "metadata": {},
   "outputs": [],
   "source": [
    "Data_Transf"
   ]
  }
 ],
 "metadata": {
  "kernelspec": {
   "display_name": "Python 3.9.7 ('base')",
   "language": "python",
   "name": "python3"
  },
  "language_info": {
   "codemirror_mode": {
    "name": "ipython",
    "version": 3
   },
   "file_extension": ".py",
   "mimetype": "text/x-python",
   "name": "python",
   "nbconvert_exporter": "python",
   "pygments_lexer": "ipython3",
   "version": "3.9.7"
  },
  "orig_nbformat": 4,
  "vscode": {
   "interpreter": {
    "hash": "03807dcc214718de3fef1abbc62da4d562d2ddd650787426faadb17d03c3a4b6"
   }
  }
 },
 "nbformat": 4,
 "nbformat_minor": 2
}

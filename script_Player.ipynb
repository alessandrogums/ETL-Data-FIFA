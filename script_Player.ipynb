{
 "cells": [
  {
   "cell_type": "markdown",
   "metadata": {},
   "source": [
    "### Imports modules and libs"
   ]
  },
  {
   "cell_type": "code",
   "execution_count": 1,
   "metadata": {},
   "outputs": [],
   "source": [
    "import pandas as pd \n",
    "import numpy as np\n",
    "from ConvertFile import Convert_File_to_pd\n",
    "from DataAnalyze import DataAnalyze\n",
    "from AnalyzeDuplicatedData import AnalyzeDuplicatedData\n",
    "from DataTransform import DataTransform\n",
    "from LoadCsvs import LoadCsvs\n"
   ]
  },
  {
   "cell_type": "markdown",
   "metadata": {},
   "source": [
    "### Transform CSVs to DFs"
   ]
  },
  {
   "cell_type": "code",
   "execution_count": 2,
   "metadata": {},
   "outputs": [],
   "source": [
    "Data_frame=Convert_File_to_pd(file_name='Player',name_table='Data',folder_name='ETL-Data-FIFA')"
   ]
  },
  {
   "cell_type": "code",
   "execution_count": 3,
   "metadata": {},
   "outputs": [],
   "source": [
    "Df=Data_frame.convert_to_dataframe"
   ]
  },
  {
   "cell_type": "markdown",
   "metadata": {},
   "source": [
    "### Exploratory analysis to investigate the possibility of data cleaning"
   ]
  },
  {
   "cell_type": "code",
   "execution_count": 4,
   "metadata": {},
   "outputs": [
    {
     "data": {
      "text/html": [
       "<div>\n",
       "<style scoped>\n",
       "    .dataframe tbody tr th:only-of-type {\n",
       "        vertical-align: middle;\n",
       "    }\n",
       "\n",
       "    .dataframe tbody tr th {\n",
       "        vertical-align: top;\n",
       "    }\n",
       "\n",
       "    .dataframe thead th {\n",
       "        text-align: right;\n",
       "    }\n",
       "</style>\n",
       "<table border=\"1\" class=\"dataframe\">\n",
       "  <thead>\n",
       "    <tr style=\"text-align: right;\">\n",
       "      <th></th>\n",
       "      <th>id</th>\n",
       "      <th>player_api_id</th>\n",
       "      <th>player_name</th>\n",
       "      <th>player_fifa_api_id</th>\n",
       "      <th>birthday</th>\n",
       "      <th>height</th>\n",
       "      <th>weight</th>\n",
       "    </tr>\n",
       "  </thead>\n",
       "  <tbody>\n",
       "    <tr>\n",
       "      <th>0</th>\n",
       "      <td>1</td>\n",
       "      <td>505942</td>\n",
       "      <td>Aaron Appindangoye</td>\n",
       "      <td>218353</td>\n",
       "      <td>1992-02-29 00:00:00</td>\n",
       "      <td>182.88</td>\n",
       "      <td>187</td>\n",
       "    </tr>\n",
       "    <tr>\n",
       "      <th>1</th>\n",
       "      <td>2</td>\n",
       "      <td>155782</td>\n",
       "      <td>Aaron Cresswell</td>\n",
       "      <td>189615</td>\n",
       "      <td>1989-12-15 00:00:00</td>\n",
       "      <td>170.18</td>\n",
       "      <td>146</td>\n",
       "    </tr>\n",
       "    <tr>\n",
       "      <th>2</th>\n",
       "      <td>3</td>\n",
       "      <td>162549</td>\n",
       "      <td>Aaron Doran</td>\n",
       "      <td>186170</td>\n",
       "      <td>1991-05-13 00:00:00</td>\n",
       "      <td>170.18</td>\n",
       "      <td>163</td>\n",
       "    </tr>\n",
       "    <tr>\n",
       "      <th>3</th>\n",
       "      <td>4</td>\n",
       "      <td>30572</td>\n",
       "      <td>Aaron Galindo</td>\n",
       "      <td>140161</td>\n",
       "      <td>1982-05-08 00:00:00</td>\n",
       "      <td>182.88</td>\n",
       "      <td>198</td>\n",
       "    </tr>\n",
       "    <tr>\n",
       "      <th>4</th>\n",
       "      <td>5</td>\n",
       "      <td>23780</td>\n",
       "      <td>Aaron Hughes</td>\n",
       "      <td>17725</td>\n",
       "      <td>1979-11-08 00:00:00</td>\n",
       "      <td>182.88</td>\n",
       "      <td>154</td>\n",
       "    </tr>\n",
       "    <tr>\n",
       "      <th>...</th>\n",
       "      <td>...</td>\n",
       "      <td>...</td>\n",
       "      <td>...</td>\n",
       "      <td>...</td>\n",
       "      <td>...</td>\n",
       "      <td>...</td>\n",
       "      <td>...</td>\n",
       "    </tr>\n",
       "    <tr>\n",
       "      <th>11055</th>\n",
       "      <td>11071</td>\n",
       "      <td>26357</td>\n",
       "      <td>Zoumana Camara</td>\n",
       "      <td>2488</td>\n",
       "      <td>1979-04-03 00:00:00</td>\n",
       "      <td>182.88</td>\n",
       "      <td>168</td>\n",
       "    </tr>\n",
       "    <tr>\n",
       "      <th>11056</th>\n",
       "      <td>11072</td>\n",
       "      <td>111182</td>\n",
       "      <td>Zsolt Laczko</td>\n",
       "      <td>164680</td>\n",
       "      <td>1986-12-18 00:00:00</td>\n",
       "      <td>182.88</td>\n",
       "      <td>176</td>\n",
       "    </tr>\n",
       "    <tr>\n",
       "      <th>11057</th>\n",
       "      <td>11073</td>\n",
       "      <td>36491</td>\n",
       "      <td>Zsolt Low</td>\n",
       "      <td>111191</td>\n",
       "      <td>1979-04-29 00:00:00</td>\n",
       "      <td>180.34</td>\n",
       "      <td>154</td>\n",
       "    </tr>\n",
       "    <tr>\n",
       "      <th>11058</th>\n",
       "      <td>11074</td>\n",
       "      <td>35506</td>\n",
       "      <td>Zurab Khizanishvili</td>\n",
       "      <td>47058</td>\n",
       "      <td>1981-10-06 00:00:00</td>\n",
       "      <td>185.42</td>\n",
       "      <td>172</td>\n",
       "    </tr>\n",
       "    <tr>\n",
       "      <th>11059</th>\n",
       "      <td>11075</td>\n",
       "      <td>39902</td>\n",
       "      <td>Zvjezdan Misimovic</td>\n",
       "      <td>102359</td>\n",
       "      <td>1982-06-05 00:00:00</td>\n",
       "      <td>180.34</td>\n",
       "      <td>176</td>\n",
       "    </tr>\n",
       "  </tbody>\n",
       "</table>\n",
       "<p>11060 rows × 7 columns</p>\n",
       "</div>"
      ],
      "text/plain": [
       "          id  player_api_id          player_name  player_fifa_api_id  \\\n",
       "0          1         505942   Aaron Appindangoye              218353   \n",
       "1          2         155782      Aaron Cresswell              189615   \n",
       "2          3         162549          Aaron Doran              186170   \n",
       "3          4          30572        Aaron Galindo              140161   \n",
       "4          5          23780         Aaron Hughes               17725   \n",
       "...      ...            ...                  ...                 ...   \n",
       "11055  11071          26357       Zoumana Camara                2488   \n",
       "11056  11072         111182         Zsolt Laczko              164680   \n",
       "11057  11073          36491            Zsolt Low              111191   \n",
       "11058  11074          35506  Zurab Khizanishvili               47058   \n",
       "11059  11075          39902   Zvjezdan Misimovic              102359   \n",
       "\n",
       "                  birthday  height  weight  \n",
       "0      1992-02-29 00:00:00  182.88     187  \n",
       "1      1989-12-15 00:00:00  170.18     146  \n",
       "2      1991-05-13 00:00:00  170.18     163  \n",
       "3      1982-05-08 00:00:00  182.88     198  \n",
       "4      1979-11-08 00:00:00  182.88     154  \n",
       "...                    ...     ...     ...  \n",
       "11055  1979-04-03 00:00:00  182.88     168  \n",
       "11056  1986-12-18 00:00:00  182.88     176  \n",
       "11057  1979-04-29 00:00:00  180.34     154  \n",
       "11058  1981-10-06 00:00:00  185.42     172  \n",
       "11059  1982-06-05 00:00:00  180.34     176  \n",
       "\n",
       "[11060 rows x 7 columns]"
      ]
     },
     "execution_count": 4,
     "metadata": {},
     "output_type": "execute_result"
    }
   ],
   "source": [
    "#Imprimindo o DataFrame\n",
    "Df"
   ]
  },
  {
   "cell_type": "code",
   "execution_count": 5,
   "metadata": {},
   "outputs": [],
   "source": [
    "#Classe responsável pelas análises exploratórias\n",
    "Results_analysis=DataAnalyze(Df)"
   ]
  },
  {
   "cell_type": "markdown",
   "metadata": {},
   "source": [
    "#### Detect NaNs"
   ]
  },
  {
   "cell_type": "code",
   "execution_count": 6,
   "metadata": {},
   "outputs": [
    {
     "data": {
      "text/plain": [
       "'lista  indices contendo nans: []'"
      ]
     },
     "execution_count": 6,
     "metadata": {},
     "output_type": "execute_result"
    }
   ],
   "source": [
    "# No objetivo de não ferir a integridade de domínio quando estes dados forem carregados em um bd, o id não pode ter campos nulos ou NaN\n",
    "Results_analysis.detect_nans(name_column='id')\n"
   ]
  },
  {
   "cell_type": "code",
   "execution_count": 7,
   "metadata": {},
   "outputs": [
    {
     "data": {
      "text/plain": [
       "'lista  indices contendo nans: []'"
      ]
     },
     "execution_count": 7,
     "metadata": {},
     "output_type": "execute_result"
    }
   ],
   "source": [
    "#Fazend isso para player_api_id \n",
    "Results_analysis.detect_nans(name_column='player_api_id')"
   ]
  },
  {
   "cell_type": "code",
   "execution_count": 8,
   "metadata": {},
   "outputs": [
    {
     "data": {
      "text/plain": [
       "'lista  indices contendo nans: []'"
      ]
     },
     "execution_count": 8,
     "metadata": {},
     "output_type": "execute_result"
    }
   ],
   "source": [
    "#Fazend isso para player_fifa_api_id\t\n",
    "Results_analysis.detect_nans(name_column='player_fifa_api_id')"
   ]
  },
  {
   "cell_type": "markdown",
   "metadata": {},
   "source": [
    "#### Detect Data Duplicated"
   ]
  },
  {
   "cell_type": "code",
   "execution_count": 9,
   "metadata": {},
   "outputs": [],
   "source": [
    "#além disso, é necessário avaliar os registros duplicados quando a coluna não pode contê-los, como é o caso das colunas acima \n",
    "Result_dup_id=AnalyzeDuplicatedData(dataframe=Df,name_col_data='id')\n",
    "Result_dup_player_api_id=AnalyzeDuplicatedData(dataframe=Df,name_col_data='player_api_id')\n",
    "Result_dup_player_fifa_api_id=AnalyzeDuplicatedData(dataframe=Df,name_col_data='player_fifa_api_id')"
   ]
  },
  {
   "cell_type": "code",
   "execution_count": 10,
   "metadata": {},
   "outputs": [
    {
     "name": "stdout",
     "output_type": "stream",
     "text": [
      "a quantidade de dados duplicados da tabela Player  na coluna id são 0\n",
      "a quantidade de dados duplicados da tabela Player  na coluna player_api_id são 0\n",
      "a quantidade de dados duplicados da tabela Player  na coluna player_fifa_api_id são 0\n"
     ]
    }
   ],
   "source": [
    "Result_dup_id.print_duplicated_data(table_name='Player')\n",
    "Result_dup_player_api_id.print_duplicated_data(table_name='Player')\n",
    "Result_dup_player_fifa_api_id.print_duplicated_data(table_name='Player')"
   ]
  },
  {
   "cell_type": "markdown",
   "metadata": {},
   "source": [
    "#### Identify Outliers"
   ]
  },
  {
   "cell_type": "code",
   "execution_count": 11,
   "metadata": {},
   "outputs": [],
   "source": [
    "#Como peso e altura são variáveis quantitativas contínuas, ou seja, permitem somente valores em uma escala contínua (na reta real)\n",
    "#É necessário analisa-las\n"
   ]
  },
  {
   "cell_type": "markdown",
   "metadata": {},
   "source": [
    "##### Height"
   ]
  },
  {
   "cell_type": "code",
   "execution_count": 12,
   "metadata": {},
   "outputs": [
    {
     "data": {
      "text/plain": [
       "{}"
      ]
     },
     "execution_count": 12,
     "metadata": {},
     "output_type": "execute_result"
    }
   ],
   "source": [
    "#Analisando pelo modelo estatístico  do Z-Score modificado a altura\n",
    "Results_analysis.identify_outliers_z_score_mod(name_column='height')"
   ]
  },
  {
   "cell_type": "code",
   "execution_count": 13,
   "metadata": {},
   "outputs": [
    {
     "data": {
      "text/plain": [
       "[165.1,\n",
       " 200.66,\n",
       " 198.12,\n",
       " 165.1,\n",
       " 165.1,\n",
       " 165.1,\n",
       " 165.1,\n",
       " 165.1,\n",
       " 165.1,\n",
       " 198.12,\n",
       " 198.12,\n",
       " 162.56,\n",
       " 198.12,\n",
       " 165.1,\n",
       " 165.1,\n",
       " 165.1,\n",
       " 200.66,\n",
       " 162.56,\n",
       " 198.12,\n",
       " 198.12,\n",
       " 203.2,\n",
       " 198.12,\n",
       " 165.1,\n",
       " 165.1,\n",
       " 198.12,\n",
       " 198.12,\n",
       " 165.1,\n",
       " 203.2,\n",
       " 198.12,\n",
       " 200.66,\n",
       " 198.12,\n",
       " 200.66,\n",
       " 160.02,\n",
       " 165.1,\n",
       " 165.1,\n",
       " 162.56,\n",
       " 198.12,\n",
       " 165.1,\n",
       " 198.12,\n",
       " 198.12,\n",
       " 198.12,\n",
       " 203.2,\n",
       " 198.12,\n",
       " 162.56,\n",
       " 200.66,\n",
       " 162.56,\n",
       " 165.1,\n",
       " 165.1,\n",
       " 198.12,\n",
       " 198.12,\n",
       " 165.1,\n",
       " 165.1,\n",
       " 198.12,\n",
       " 198.12,\n",
       " 165.1,\n",
       " 165.1,\n",
       " 198.12,\n",
       " 198.12,\n",
       " 165.1,\n",
       " 165.1,\n",
       " 198.12,\n",
       " 165.1,\n",
       " 198.12,\n",
       " 165.1,\n",
       " 198.12,\n",
       " 157.48,\n",
       " 198.12,\n",
       " 165.1,\n",
       " 203.2,\n",
       " 198.12,\n",
       " 198.12,\n",
       " 198.12,\n",
       " 203.2,\n",
       " 198.12,\n",
       " 200.66,\n",
       " 208.28,\n",
       " 203.2,\n",
       " 165.1,\n",
       " 198.12,\n",
       " 198.12,\n",
       " 165.1,\n",
       " 198.12,\n",
       " 165.1,\n",
       " 162.56,\n",
       " 165.1,\n",
       " 198.12,\n",
       " 198.12,\n",
       " 198.12,\n",
       " 198.12,\n",
       " 165.1,\n",
       " 165.1,\n",
       " 165.1,\n",
       " 165.1,\n",
       " 198.12,\n",
       " 198.12,\n",
       " 165.1,\n",
       " 160.02,\n",
       " 165.1,\n",
       " 198.12,\n",
       " 198.12,\n",
       " 198.12,\n",
       " 203.2,\n",
       " 198.12,\n",
       " 165.1,\n",
       " 162.56,\n",
       " 203.2,\n",
       " 165.1,\n",
       " 165.1,\n",
       " 165.1,\n",
       " 165.1,\n",
       " 198.12,\n",
       " 200.66,\n",
       " 198.12,\n",
       " 203.2,\n",
       " 162.56,\n",
       " 198.12,\n",
       " 198.12,\n",
       " 165.1,\n",
       " 200.66,\n",
       " 165.1,\n",
       " 165.1,\n",
       " 165.1,\n",
       " 165.1,\n",
       " 162.56,\n",
       " 165.1,\n",
       " 198.12,\n",
       " 198.12,\n",
       " 165.1,\n",
       " 165.1,\n",
       " 165.1,\n",
       " 165.1,\n",
       " 198.12,\n",
       " 198.12,\n",
       " 203.2,\n",
       " 198.12,\n",
       " 165.1,\n",
       " 198.12,\n",
       " 165.1,\n",
       " 198.12,\n",
       " 165.1,\n",
       " 203.2,\n",
       " 165.1,\n",
       " 165.1,\n",
       " 198.12,\n",
       " 198.12,\n",
       " 165.1,\n",
       " 200.66,\n",
       " 198.12,\n",
       " 165.1,\n",
       " 198.12,\n",
       " 165.1,\n",
       " 165.1,\n",
       " 198.12,\n",
       " 203.2,\n",
       " 198.12,\n",
       " 165.1]"
      ]
     },
     "execution_count": 13,
     "metadata": {},
     "output_type": "execute_result"
    }
   ],
   "source": [
    "#Pelo IQR\n",
    "Results_analysis.identify_outliers_IQR(name_column='height')"
   ]
  },
  {
   "cell_type": "code",
   "execution_count": 14,
   "metadata": {},
   "outputs": [],
   "source": [
    "#Percebe-se logo que somente o  IQR identificou mais valores atípico(outliers) na série \n",
    "#Porém analisando cada um, todos encontram-se na faixa coerente de alturas"
   ]
  },
  {
   "cell_type": "markdown",
   "metadata": {},
   "source": [
    "##### Weight"
   ]
  },
  {
   "cell_type": "code",
   "execution_count": 15,
   "metadata": {},
   "outputs": [
    {
     "data": {
      "text/plain": [
       "{44: [3.7472222222222222, 218.0],\n",
       " 1298: [3.5973333333333333, 216.0],\n",
       " 1595: [3.8971111111111107, 220.0],\n",
       " 1819: [3.8971111111111107, 220.0],\n",
       " 3026: [3.7472222222222222, 218.0],\n",
       " 4408: [4.271833333333333, 225.0],\n",
       " 4659: [3.5973333333333333, 216.0],\n",
       " 4879: [4.421722222222222, 227.0],\n",
       " 5168: [3.5973333333333333, 216.0],\n",
       " 5446: [-3.822166666666666, 117.0],\n",
       " 5901: [5.620833333333334, 243.0],\n",
       " 5969: [3.8971111111111107, 220.0],\n",
       " 6762: [3.8971111111111107, 220.0],\n",
       " 6843: [-3.522388888888889, 121.0],\n",
       " 9900: [3.5973333333333333, 216.0],\n",
       " 10297: [5.620833333333334, 243.0],\n",
       " 10371: [3.5973333333333333, 216.0],\n",
       " 10816: [3.7472222222222222, 218.0],\n",
       " 10938: [-3.522388888888889, 121.0]}"
      ]
     },
     "execution_count": 15,
     "metadata": {},
     "output_type": "execute_result"
    }
   ],
   "source": [
    "#Analisando pelo modelo estatístico  do Z-Score modificado  para o peso\n",
    "Results_analysis.identify_outliers_z_score_mod(name_column='weight')"
   ]
  },
  {
   "cell_type": "code",
   "execution_count": 16,
   "metadata": {},
   "outputs": [
    {
     "data": {
      "text/plain": [
       "[212,\n",
       " 218,\n",
       " 126,\n",
       " 212,\n",
       " 214,\n",
       " 126,\n",
       " 212,\n",
       " 212,\n",
       " 128,\n",
       " 216,\n",
       " 123,\n",
       " 220,\n",
       " 214,\n",
       " 220,\n",
       " 128,\n",
       " 212,\n",
       " 212,\n",
       " 214,\n",
       " 212,\n",
       " 123,\n",
       " 212,\n",
       " 218,\n",
       " 126,\n",
       " 212,\n",
       " 128,\n",
       " 212,\n",
       " 214,\n",
       " 128,\n",
       " 225,\n",
       " 216,\n",
       " 212,\n",
       " 227,\n",
       " 212,\n",
       " 216,\n",
       " 117,\n",
       " 212,\n",
       " 128,\n",
       " 243,\n",
       " 220,\n",
       " 212,\n",
       " 220,\n",
       " 121,\n",
       " 128,\n",
       " 126,\n",
       " 126,\n",
       " 212,\n",
       " 212,\n",
       " 128,\n",
       " 214,\n",
       " 214,\n",
       " 212,\n",
       " 214,\n",
       " 216,\n",
       " 128,\n",
       " 243,\n",
       " 128,\n",
       " 216,\n",
       " 128,\n",
       " 218,\n",
       " 121,\n",
       " 212]"
      ]
     },
     "execution_count": 16,
     "metadata": {},
     "output_type": "execute_result"
    }
   ],
   "source": [
    "Results_analysis.identify_outliers_IQR(name_column='weight')"
   ]
  },
  {
   "cell_type": "code",
   "execution_count": 17,
   "metadata": {},
   "outputs": [],
   "source": [
    "#Assim como a altura, não existem dados distoantes da realidade para o peso, mesmo avaliando nesses dois módelos de outliers\n"
   ]
  },
  {
   "cell_type": "markdown",
   "metadata": {},
   "source": [
    "### Analyze  typing"
   ]
  },
  {
   "cell_type": "code",
   "execution_count": 18,
   "metadata": {},
   "outputs": [
    {
     "name": "stdout",
     "output_type": "stream",
     "text": [
      "<class 'pandas.core.frame.DataFrame'>\n",
      "RangeIndex: 11060 entries, 0 to 11059\n",
      "Data columns (total 7 columns):\n",
      " #   Column              Non-Null Count  Dtype  \n",
      "---  ------              --------------  -----  \n",
      " 0   id                  11060 non-null  int64  \n",
      " 1   player_api_id       11060 non-null  int64  \n",
      " 2   player_name         11060 non-null  object \n",
      " 3   player_fifa_api_id  11060 non-null  int64  \n",
      " 4   birthday            11060 non-null  object \n",
      " 5   height              11060 non-null  float64\n",
      " 6   weight              11060 non-null  int64  \n",
      "dtypes: float64(1), int64(4), object(2)\n",
      "memory usage: 605.0+ KB\n"
     ]
    }
   ],
   "source": [
    "#analisando a tipagem esperada de forma geral\n",
    "Df.info()\n"
   ]
  },
  {
   "cell_type": "code",
   "execution_count": 19,
   "metadata": {},
   "outputs": [
    {
     "data": {
      "text/plain": [
       "'all the data are in the date structure'"
      ]
     },
     "execution_count": 19,
     "metadata": {},
     "output_type": "execute_result"
    }
   ],
   "source": [
    "#Analisando os dados, todos fornecerem a tipagem esperada para eventualmente serem inseridos no bd\n",
    "#Exceto na coluna de birthday, onde é necessário avaliar  se a estrutura(formato) da data corresponde aos padrãoes de data\n",
    "\n",
    "Results_analysis.analyze_typing_expected_timestamp(name_column='birthday')\n"
   ]
  },
  {
   "cell_type": "code",
   "execution_count": 20,
   "metadata": {},
   "outputs": [
    {
     "data": {
      "text/plain": [
       "[]"
      ]
     },
     "execution_count": 20,
     "metadata": {},
     "output_type": "execute_result"
    }
   ],
   "source": [
    "#Fora a coluna de name também\n",
    "\n",
    "Results_analysis.confirm_typing(name_column='player_name',type_expected='str')\n",
    "\n",
    "#Como a lista veio vazia, todos os dados estão coerentes como str"
   ]
  },
  {
   "cell_type": "markdown",
   "metadata": {},
   "source": [
    "### Data transform "
   ]
  },
  {
   "cell_type": "code",
   "execution_count": 21,
   "metadata": {},
   "outputs": [],
   "source": [
    "#Como não houve acontecimento de NaNs, dados duplicados, outliers e tipagens fora do escopo, o Df já está devidamente tratado\n",
    "Data_Transf=Df.copy()\n"
   ]
  },
  {
   "cell_type": "code",
   "execution_count": 22,
   "metadata": {},
   "outputs": [
    {
     "data": {
      "text/html": [
       "<div>\n",
       "<style scoped>\n",
       "    .dataframe tbody tr th:only-of-type {\n",
       "        vertical-align: middle;\n",
       "    }\n",
       "\n",
       "    .dataframe tbody tr th {\n",
       "        vertical-align: top;\n",
       "    }\n",
       "\n",
       "    .dataframe thead th {\n",
       "        text-align: right;\n",
       "    }\n",
       "</style>\n",
       "<table border=\"1\" class=\"dataframe\">\n",
       "  <thead>\n",
       "    <tr style=\"text-align: right;\">\n",
       "      <th></th>\n",
       "      <th>id</th>\n",
       "      <th>player_api_id</th>\n",
       "      <th>player_name</th>\n",
       "      <th>player_fifa_api_id</th>\n",
       "      <th>birthday</th>\n",
       "      <th>height</th>\n",
       "      <th>weight</th>\n",
       "    </tr>\n",
       "  </thead>\n",
       "  <tbody>\n",
       "    <tr>\n",
       "      <th>0</th>\n",
       "      <td>1</td>\n",
       "      <td>505942</td>\n",
       "      <td>Aaron Appindangoye</td>\n",
       "      <td>218353</td>\n",
       "      <td>1992-02-29 00:00:00</td>\n",
       "      <td>182.88</td>\n",
       "      <td>187</td>\n",
       "    </tr>\n",
       "    <tr>\n",
       "      <th>1</th>\n",
       "      <td>2</td>\n",
       "      <td>155782</td>\n",
       "      <td>Aaron Cresswell</td>\n",
       "      <td>189615</td>\n",
       "      <td>1989-12-15 00:00:00</td>\n",
       "      <td>170.18</td>\n",
       "      <td>146</td>\n",
       "    </tr>\n",
       "    <tr>\n",
       "      <th>2</th>\n",
       "      <td>3</td>\n",
       "      <td>162549</td>\n",
       "      <td>Aaron Doran</td>\n",
       "      <td>186170</td>\n",
       "      <td>1991-05-13 00:00:00</td>\n",
       "      <td>170.18</td>\n",
       "      <td>163</td>\n",
       "    </tr>\n",
       "    <tr>\n",
       "      <th>3</th>\n",
       "      <td>4</td>\n",
       "      <td>30572</td>\n",
       "      <td>Aaron Galindo</td>\n",
       "      <td>140161</td>\n",
       "      <td>1982-05-08 00:00:00</td>\n",
       "      <td>182.88</td>\n",
       "      <td>198</td>\n",
       "    </tr>\n",
       "    <tr>\n",
       "      <th>4</th>\n",
       "      <td>5</td>\n",
       "      <td>23780</td>\n",
       "      <td>Aaron Hughes</td>\n",
       "      <td>17725</td>\n",
       "      <td>1979-11-08 00:00:00</td>\n",
       "      <td>182.88</td>\n",
       "      <td>154</td>\n",
       "    </tr>\n",
       "    <tr>\n",
       "      <th>...</th>\n",
       "      <td>...</td>\n",
       "      <td>...</td>\n",
       "      <td>...</td>\n",
       "      <td>...</td>\n",
       "      <td>...</td>\n",
       "      <td>...</td>\n",
       "      <td>...</td>\n",
       "    </tr>\n",
       "    <tr>\n",
       "      <th>11055</th>\n",
       "      <td>11071</td>\n",
       "      <td>26357</td>\n",
       "      <td>Zoumana Camara</td>\n",
       "      <td>2488</td>\n",
       "      <td>1979-04-03 00:00:00</td>\n",
       "      <td>182.88</td>\n",
       "      <td>168</td>\n",
       "    </tr>\n",
       "    <tr>\n",
       "      <th>11056</th>\n",
       "      <td>11072</td>\n",
       "      <td>111182</td>\n",
       "      <td>Zsolt Laczko</td>\n",
       "      <td>164680</td>\n",
       "      <td>1986-12-18 00:00:00</td>\n",
       "      <td>182.88</td>\n",
       "      <td>176</td>\n",
       "    </tr>\n",
       "    <tr>\n",
       "      <th>11057</th>\n",
       "      <td>11073</td>\n",
       "      <td>36491</td>\n",
       "      <td>Zsolt Low</td>\n",
       "      <td>111191</td>\n",
       "      <td>1979-04-29 00:00:00</td>\n",
       "      <td>180.34</td>\n",
       "      <td>154</td>\n",
       "    </tr>\n",
       "    <tr>\n",
       "      <th>11058</th>\n",
       "      <td>11074</td>\n",
       "      <td>35506</td>\n",
       "      <td>Zurab Khizanishvili</td>\n",
       "      <td>47058</td>\n",
       "      <td>1981-10-06 00:00:00</td>\n",
       "      <td>185.42</td>\n",
       "      <td>172</td>\n",
       "    </tr>\n",
       "    <tr>\n",
       "      <th>11059</th>\n",
       "      <td>11075</td>\n",
       "      <td>39902</td>\n",
       "      <td>Zvjezdan Misimovic</td>\n",
       "      <td>102359</td>\n",
       "      <td>1982-06-05 00:00:00</td>\n",
       "      <td>180.34</td>\n",
       "      <td>176</td>\n",
       "    </tr>\n",
       "  </tbody>\n",
       "</table>\n",
       "<p>11060 rows × 7 columns</p>\n",
       "</div>"
      ],
      "text/plain": [
       "          id  player_api_id          player_name  player_fifa_api_id  \\\n",
       "0          1         505942   Aaron Appindangoye              218353   \n",
       "1          2         155782      Aaron Cresswell              189615   \n",
       "2          3         162549          Aaron Doran              186170   \n",
       "3          4          30572        Aaron Galindo              140161   \n",
       "4          5          23780         Aaron Hughes               17725   \n",
       "...      ...            ...                  ...                 ...   \n",
       "11055  11071          26357       Zoumana Camara                2488   \n",
       "11056  11072         111182         Zsolt Laczko              164680   \n",
       "11057  11073          36491            Zsolt Low              111191   \n",
       "11058  11074          35506  Zurab Khizanishvili               47058   \n",
       "11059  11075          39902   Zvjezdan Misimovic              102359   \n",
       "\n",
       "                  birthday  height  weight  \n",
       "0      1992-02-29 00:00:00  182.88     187  \n",
       "1      1989-12-15 00:00:00  170.18     146  \n",
       "2      1991-05-13 00:00:00  170.18     163  \n",
       "3      1982-05-08 00:00:00  182.88     198  \n",
       "4      1979-11-08 00:00:00  182.88     154  \n",
       "...                    ...     ...     ...  \n",
       "11055  1979-04-03 00:00:00  182.88     168  \n",
       "11056  1986-12-18 00:00:00  182.88     176  \n",
       "11057  1979-04-29 00:00:00  180.34     154  \n",
       "11058  1981-10-06 00:00:00  185.42     172  \n",
       "11059  1982-06-05 00:00:00  180.34     176  \n",
       "\n",
       "[11060 rows x 7 columns]"
      ]
     },
     "execution_count": 22,
     "metadata": {},
     "output_type": "execute_result"
    }
   ],
   "source": [
    "Data_Transf"
   ]
  },
  {
   "cell_type": "markdown",
   "metadata": {},
   "source": [
    "### Load CSV"
   ]
  },
  {
   "cell_type": "code",
   "execution_count": 24,
   "metadata": {},
   "outputs": [],
   "source": [
    "Df_load=LoadCsvs(dataframe=Data_Transf)"
   ]
  },
  {
   "cell_type": "code",
   "execution_count": 26,
   "metadata": {},
   "outputs": [],
   "source": [
    "Df_load.load_csv(name_dataframe='Player',new_folder='Load_csvs')"
   ]
  }
 ],
 "metadata": {
  "kernelspec": {
   "display_name": "Python 3.9.7 ('base')",
   "language": "python",
   "name": "python3"
  },
  "language_info": {
   "codemirror_mode": {
    "name": "ipython",
    "version": 3
   },
   "file_extension": ".py",
   "mimetype": "text/x-python",
   "name": "python",
   "nbconvert_exporter": "python",
   "pygments_lexer": "ipython3",
   "version": "3.9.7"
  },
  "orig_nbformat": 4,
  "vscode": {
   "interpreter": {
    "hash": "03807dcc214718de3fef1abbc62da4d562d2ddd650787426faadb17d03c3a4b6"
   }
  }
 },
 "nbformat": 4,
 "nbformat_minor": 2
}

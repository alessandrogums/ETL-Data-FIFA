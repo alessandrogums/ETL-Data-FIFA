{
 "cells": [
  {
   "cell_type": "markdown",
   "metadata": {},
   "source": [
    "### Imports modules and libs"
   ]
  },
  {
   "cell_type": "code",
   "execution_count": null,
   "metadata": {},
   "outputs": [],
   "source": [
    "import pandas as pd \n",
    "import numpy as np\n",
    "from ConvertFile import Convert_File_to_pd\n",
    "from DataAnalyze import DataAnalyze\n",
    "from AnalyzeDuplicatedData import AnalyzeDuplicatedData\n",
    "from DataTransform import DataTransform\n",
    "from LoadCsvs import LoadCsvs\n"
   ]
  },
  {
   "cell_type": "markdown",
   "metadata": {},
   "source": [
    "### Transform CSVs to DFs"
   ]
  },
  {
   "cell_type": "code",
   "execution_count": null,
   "metadata": {},
   "outputs": [],
   "source": [
    "Data_frame=Convert_File_to_pd(file_name='Player',name_table='Data',folder_name='ETL-Data-FIFA')"
   ]
  },
  {
   "cell_type": "code",
   "execution_count": null,
   "metadata": {},
   "outputs": [],
   "source": [
    "Df=Data_frame.convert_to_dataframe"
   ]
  },
  {
   "cell_type": "markdown",
   "metadata": {},
   "source": [
    "### Exploratory analysis to investigate the possibility of data cleaning"
   ]
  },
  {
   "cell_type": "code",
   "execution_count": null,
   "metadata": {},
   "outputs": [],
   "source": [
    "#Imprimindo o DataFrame\n",
    "Df"
   ]
  },
  {
   "cell_type": "code",
   "execution_count": null,
   "metadata": {},
   "outputs": [],
   "source": [
    "#Classe responsável pelas análises exploratórias\n",
    "Results_analysis=DataAnalyze(Df)"
   ]
  },
  {
   "cell_type": "markdown",
   "metadata": {},
   "source": [
    "#### Detect NaNs"
   ]
  },
  {
   "cell_type": "code",
   "execution_count": null,
   "metadata": {},
   "outputs": [],
   "source": [
    "# No objetivo de não ferir a integridade de domínio quando estes dados forem carregados em um bd, o id não pode ter campos nulos ou NaN\n",
    "Results_analysis.detect_nans(name_column='id')\n"
   ]
  },
  {
   "cell_type": "code",
   "execution_count": null,
   "metadata": {},
   "outputs": [],
   "source": [
    "#Fazend isso para player_api_id \n",
    "Results_analysis.detect_nans(name_column='player_api_id')"
   ]
  },
  {
   "cell_type": "code",
   "execution_count": null,
   "metadata": {},
   "outputs": [],
   "source": [
    "#Fazend isso para player_fifa_api_id\t\n",
    "Results_analysis.detect_nans(name_column='player_fifa_api_id')"
   ]
  },
  {
   "cell_type": "markdown",
   "metadata": {},
   "source": [
    "#### Detect Data Duplicated"
   ]
  },
  {
   "cell_type": "code",
   "execution_count": null,
   "metadata": {},
   "outputs": [],
   "source": [
    "#além disso, é necessário avaliar os registros duplicados quando a coluna não pode contê-los, como é o caso das colunas acima \n",
    "Result_dup_id=AnalyzeDuplicatedData(dataframe=Df,name_col_data='id')\n",
    "Result_dup_player_api_id=AnalyzeDuplicatedData(dataframe=Df,name_col_data='player_api_id')\n",
    "Result_dup_player_fifa_api_id=AnalyzeDuplicatedData(dataframe=Df,name_col_data='player_fifa_api_id')"
   ]
  },
  {
   "cell_type": "code",
   "execution_count": null,
   "metadata": {},
   "outputs": [],
   "source": [
    "Result_dup_id.print_duplicated_data(table_name='Player')\n",
    "Result_dup_player_api_id.print_duplicated_data(table_name='Player')\n",
    "Result_dup_player_fifa_api_id.print_duplicated_data(table_name='Player')"
   ]
  },
  {
   "cell_type": "markdown",
   "metadata": {},
   "source": [
    "#### Identify Outliers"
   ]
  },
  {
   "cell_type": "code",
   "execution_count": null,
   "metadata": {},
   "outputs": [],
   "source": [
    "#Como peso e altura são variáveis quantitativas contínuas, ou seja, permitem somente valores em uma escala contínua (na reta real)\n",
    "#É necessário analisa-las\n"
   ]
  },
  {
   "cell_type": "markdown",
   "metadata": {},
   "source": [
    "##### Height"
   ]
  },
  {
   "cell_type": "code",
   "execution_count": null,
   "metadata": {},
   "outputs": [],
   "source": [
    "#Analisando pelo modelo estatístico  do Z-Score modificado a altura\n",
    "Results_analysis.identify_outliers_z_score_mod(name_column='height')"
   ]
  },
  {
   "cell_type": "code",
   "execution_count": null,
   "metadata": {},
   "outputs": [],
   "source": [
    "#Pelo IQR\n",
    "Results_analysis.identify_outliers_IQR(name_column='height')"
   ]
  },
  {
   "cell_type": "code",
   "execution_count": null,
   "metadata": {},
   "outputs": [],
   "source": [
    "#Percebe-se logo que somente o  IQR identificou mais valores atípico(outliers) na série \n",
    "#Porém analisando cada um, todos encontram-se na faixa coerente de alturas"
   ]
  },
  {
   "cell_type": "markdown",
   "metadata": {},
   "source": [
    "##### Weight"
   ]
  },
  {
   "cell_type": "code",
   "execution_count": null,
   "metadata": {},
   "outputs": [],
   "source": [
    "#Analisando pelo modelo estatístico  do Z-Score modificado  para o peso\n",
    "Results_analysis.identify_outliers_z_score_mod(name_column='weight')"
   ]
  },
  {
   "cell_type": "code",
   "execution_count": null,
   "metadata": {},
   "outputs": [],
   "source": [
    "Results_analysis.identify_outliers_IQR(name_column='weight')"
   ]
  },
  {
   "cell_type": "code",
   "execution_count": null,
   "metadata": {},
   "outputs": [],
   "source": [
    "#Assim como a altura, não existem dados distoantes da realidade para o peso, mesmo avaliando nesses dois módelos de outliers\n"
   ]
  },
  {
   "cell_type": "markdown",
   "metadata": {},
   "source": [
    "### Analyze  typing"
   ]
  },
  {
   "cell_type": "code",
   "execution_count": null,
   "metadata": {},
   "outputs": [],
   "source": [
    "#analisando a tipagem esperada de forma geral\n",
    "Df.info()\n"
   ]
  },
  {
   "cell_type": "code",
   "execution_count": null,
   "metadata": {},
   "outputs": [],
   "source": [
    "#Analisando os dados, todos fornecerem a tipagem esperada para eventualmente serem inseridos no bd\n",
    "#Exceto na coluna de birthday, onde é necessário avaliar  se a estrutura(formato) da data corresponde aos padrãoes de data\n",
    "\n",
    "Results_analysis.analyze_typing_expected_timestamp(name_column='birthday')\n"
   ]
  },
  {
   "cell_type": "code",
   "execution_count": null,
   "metadata": {},
   "outputs": [],
   "source": [
    "#Fora a coluna de name também\n",
    "\n",
    "Results_analysis.confirm_typing(name_column='player_name',type_expected='str')\n",
    "\n",
    "#Como a lista veio vazia, todos os dados estão coerentes como str"
   ]
  },
  {
   "cell_type": "markdown",
   "metadata": {},
   "source": [
    "### Data transform "
   ]
  },
  {
   "cell_type": "code",
   "execution_count": null,
   "metadata": {},
   "outputs": [],
   "source": [
    "#Como não houve acontecimento de NaNs, dados duplicados, outliers e tipagens fora do escopo, o Df já está devidamente tratado\n",
    "Data_Transf=Df.copy()\n"
   ]
  },
  {
   "cell_type": "code",
   "execution_count": null,
   "metadata": {},
   "outputs": [],
   "source": [
    "Data_Transf"
   ]
  },
  {
   "cell_type": "markdown",
   "metadata": {},
   "source": [
    "### Load CSV"
   ]
  },
  {
   "cell_type": "code",
   "execution_count": null,
   "metadata": {},
   "outputs": [],
   "source": [
    "Df_load=LoadCsvs(dataframe=Data_Transf,new_folder='Load_csvs',name_dataframe='Player',folder_name=Data_frame.folder_name)"
   ]
  },
  {
   "cell_type": "code",
   "execution_count": null,
   "metadata": {},
   "outputs": [],
   "source": [
    "Df_load.load_csv"
   ]
  }
 ],
 "metadata": {
  "kernelspec": {
   "display_name": "Python 3.9.7 ('base')",
   "language": "python",
   "name": "python3"
  },
  "language_info": {
   "codemirror_mode": {
    "name": "ipython",
    "version": 3
   },
   "file_extension": ".py",
   "mimetype": "text/x-python",
   "name": "python",
   "nbconvert_exporter": "python",
   "pygments_lexer": "ipython3",
   "version": "3.9.7"
  },
  "orig_nbformat": 4,
  "vscode": {
   "interpreter": {
    "hash": "03807dcc214718de3fef1abbc62da4d562d2ddd650787426faadb17d03c3a4b6"
   }
  }
 },
 "nbformat": 4,
 "nbformat_minor": 2
}

{
 "cells": [
  {
   "cell_type": "markdown",
   "metadata": {},
   "source": [
    "### Imports modules and libs"
   ]
  },
  {
   "cell_type": "code",
   "execution_count": 1,
   "metadata": {},
   "outputs": [],
   "source": [
    "import pandas as pd \n",
    "import numpy as np\n",
    "from ConvertFile import Convert_File_to_pd\n",
    "from DataAnalyze import DataAnalyze\n",
    "from AnalyzeDuplicatedData import AnalyzeDuplicatedData\n",
    "from DataTransform import DataTransform\n",
    "from LoadCsvs import LoadCsvs\n"
   ]
  },
  {
   "cell_type": "markdown",
   "metadata": {},
   "source": [
    "### Transform CSVs to DFs"
   ]
  },
  {
   "cell_type": "code",
   "execution_count": 2,
   "metadata": {},
   "outputs": [],
   "source": [
    "Data_frame=Convert_File_to_pd(file_name='Team',name_table='Data',folder_name='ETL-Data-FIFA')"
   ]
  },
  {
   "cell_type": "code",
   "execution_count": 3,
   "metadata": {},
   "outputs": [],
   "source": [
    "Df=Data_frame.convert_to_dataframe"
   ]
  },
  {
   "cell_type": "markdown",
   "metadata": {},
   "source": [
    "### Exploratory analysis to investigate the possibility of data cleaning"
   ]
  },
  {
   "cell_type": "code",
   "execution_count": 4,
   "metadata": {},
   "outputs": [
    {
     "data": {
      "text/html": [
       "<div>\n",
       "<style scoped>\n",
       "    .dataframe tbody tr th:only-of-type {\n",
       "        vertical-align: middle;\n",
       "    }\n",
       "\n",
       "    .dataframe tbody tr th {\n",
       "        vertical-align: top;\n",
       "    }\n",
       "\n",
       "    .dataframe thead th {\n",
       "        text-align: right;\n",
       "    }\n",
       "</style>\n",
       "<table border=\"1\" class=\"dataframe\">\n",
       "  <thead>\n",
       "    <tr style=\"text-align: right;\">\n",
       "      <th></th>\n",
       "      <th>id</th>\n",
       "      <th>team_api_id</th>\n",
       "      <th>team_fifa_api_id</th>\n",
       "      <th>team_long_name</th>\n",
       "      <th>team_short_name</th>\n",
       "    </tr>\n",
       "  </thead>\n",
       "  <tbody>\n",
       "    <tr>\n",
       "      <th>0</th>\n",
       "      <td>1</td>\n",
       "      <td>9987</td>\n",
       "      <td>673.0</td>\n",
       "      <td>KRC Genk</td>\n",
       "      <td>GEN</td>\n",
       "    </tr>\n",
       "    <tr>\n",
       "      <th>1</th>\n",
       "      <td>2</td>\n",
       "      <td>9993</td>\n",
       "      <td>675.0</td>\n",
       "      <td>Beerschot AC</td>\n",
       "      <td>BAC</td>\n",
       "    </tr>\n",
       "    <tr>\n",
       "      <th>2</th>\n",
       "      <td>3</td>\n",
       "      <td>10000</td>\n",
       "      <td>15005.0</td>\n",
       "      <td>SV Zulte-Waregem</td>\n",
       "      <td>ZUL</td>\n",
       "    </tr>\n",
       "    <tr>\n",
       "      <th>3</th>\n",
       "      <td>4</td>\n",
       "      <td>9994</td>\n",
       "      <td>2007.0</td>\n",
       "      <td>Sporting Lokeren</td>\n",
       "      <td>LOK</td>\n",
       "    </tr>\n",
       "    <tr>\n",
       "      <th>4</th>\n",
       "      <td>5</td>\n",
       "      <td>9984</td>\n",
       "      <td>1750.0</td>\n",
       "      <td>KSV Cercle Brugge</td>\n",
       "      <td>CEB</td>\n",
       "    </tr>\n",
       "    <tr>\n",
       "      <th>...</th>\n",
       "      <td>...</td>\n",
       "      <td>...</td>\n",
       "      <td>...</td>\n",
       "      <td>...</td>\n",
       "      <td>...</td>\n",
       "    </tr>\n",
       "    <tr>\n",
       "      <th>294</th>\n",
       "      <td>49479</td>\n",
       "      <td>10190</td>\n",
       "      <td>898.0</td>\n",
       "      <td>FC St. Gallen</td>\n",
       "      <td>GAL</td>\n",
       "    </tr>\n",
       "    <tr>\n",
       "      <th>295</th>\n",
       "      <td>49837</td>\n",
       "      <td>10191</td>\n",
       "      <td>1715.0</td>\n",
       "      <td>FC Thun</td>\n",
       "      <td>THU</td>\n",
       "    </tr>\n",
       "    <tr>\n",
       "      <th>296</th>\n",
       "      <td>50201</td>\n",
       "      <td>9777</td>\n",
       "      <td>324.0</td>\n",
       "      <td>Servette FC</td>\n",
       "      <td>SER</td>\n",
       "    </tr>\n",
       "    <tr>\n",
       "      <th>297</th>\n",
       "      <td>50204</td>\n",
       "      <td>7730</td>\n",
       "      <td>1862.0</td>\n",
       "      <td>FC Lausanne-Sports</td>\n",
       "      <td>LAU</td>\n",
       "    </tr>\n",
       "    <tr>\n",
       "      <th>298</th>\n",
       "      <td>51606</td>\n",
       "      <td>7896</td>\n",
       "      <td>NaN</td>\n",
       "      <td>Lugano</td>\n",
       "      <td>LUG</td>\n",
       "    </tr>\n",
       "  </tbody>\n",
       "</table>\n",
       "<p>299 rows × 5 columns</p>\n",
       "</div>"
      ],
      "text/plain": [
       "        id  team_api_id  team_fifa_api_id      team_long_name team_short_name\n",
       "0        1         9987             673.0            KRC Genk             GEN\n",
       "1        2         9993             675.0        Beerschot AC             BAC\n",
       "2        3        10000           15005.0    SV Zulte-Waregem             ZUL\n",
       "3        4         9994            2007.0    Sporting Lokeren             LOK\n",
       "4        5         9984            1750.0   KSV Cercle Brugge             CEB\n",
       "..     ...          ...               ...                 ...             ...\n",
       "294  49479        10190             898.0       FC St. Gallen             GAL\n",
       "295  49837        10191            1715.0             FC Thun             THU\n",
       "296  50201         9777             324.0         Servette FC             SER\n",
       "297  50204         7730            1862.0  FC Lausanne-Sports             LAU\n",
       "298  51606         7896               NaN              Lugano             LUG\n",
       "\n",
       "[299 rows x 5 columns]"
      ]
     },
     "execution_count": 4,
     "metadata": {},
     "output_type": "execute_result"
    }
   ],
   "source": [
    "#Imprimindo o DataFrame\n",
    "Df"
   ]
  },
  {
   "cell_type": "code",
   "execution_count": 5,
   "metadata": {},
   "outputs": [],
   "source": [
    "#Classe responsável pelas análises exploratórias\n",
    "Results_analysis=DataAnalyze(Df)"
   ]
  },
  {
   "cell_type": "markdown",
   "metadata": {},
   "source": [
    "#### Detect NaNs"
   ]
  },
  {
   "cell_type": "code",
   "execution_count": 6,
   "metadata": {},
   "outputs": [
    {
     "data": {
      "text/plain": [
       "'lista  indices contendo nans: []'"
      ]
     },
     "execution_count": 6,
     "metadata": {},
     "output_type": "execute_result"
    }
   ],
   "source": [
    "# No objetivo de não ferir a integridade de domínio quando estes dados forem carregados em um bd, o id não pode ter campos nulos ou NaN\n",
    "Results_analysis.detect_nans(name_column='id')\n"
   ]
  },
  {
   "cell_type": "code",
   "execution_count": 7,
   "metadata": {},
   "outputs": [
    {
     "data": {
      "text/plain": [
       "'lista  indices contendo nans: []'"
      ]
     },
     "execution_count": 7,
     "metadata": {},
     "output_type": "execute_result"
    }
   ],
   "source": [
    "#Fazend isso para player_api_id \n",
    "Results_analysis.detect_nans(name_column='team_api_id')"
   ]
  },
  {
   "cell_type": "code",
   "execution_count": 8,
   "metadata": {},
   "outputs": [
    {
     "data": {
      "text/plain": [
       "'lista  indices contendo nans: [8, 14, 170, 204, 208, 213, 223, 225, 232, 233, 298]'"
      ]
     },
     "execution_count": 8,
     "metadata": {},
     "output_type": "execute_result"
    }
   ],
   "source": [
    "#Fazend isso para player_fifa_api_id\t\n",
    "Results_analysis.detect_nans(name_column='team_fifa_api_id')"
   ]
  },
  {
   "cell_type": "markdown",
   "metadata": {},
   "source": [
    "#### Detect Data Duplicated"
   ]
  },
  {
   "cell_type": "code",
   "execution_count": 9,
   "metadata": {},
   "outputs": [],
   "source": [
    "#além disso, é necessário avaliar os registros duplicados quando a coluna não pode contê-los, como é o caso das colunas acima \n",
    "Result_dup_id=AnalyzeDuplicatedData(dataframe=Df,name_col_data='id')\n",
    "Result_dup_team_api_id=AnalyzeDuplicatedData(dataframe=Df,name_col_data='team_api_id')\n",
    "Result_dup_team_fifa_api_id=AnalyzeDuplicatedData(dataframe=Df,name_col_data='team_fifa_api_id')"
   ]
  },
  {
   "cell_type": "code",
   "execution_count": 10,
   "metadata": {},
   "outputs": [
    {
     "name": "stdout",
     "output_type": "stream",
     "text": [
      "a quantidade de dados duplicados da tabela Player  na coluna id são 0\n",
      "a quantidade de dados duplicados da tabela Player  na coluna team_api_id são 0\n",
      "a quantidade de dados duplicados da tabela Player  na coluna team_fifa_api_id são 13\n"
     ]
    }
   ],
   "source": [
    "Result_dup_id.print_duplicated_data(table_name='Player')\n",
    "Result_dup_team_api_id.print_duplicated_data(table_name='Player')\n",
    "Result_dup_team_fifa_api_id.print_duplicated_data(table_name='Player')"
   ]
  },
  {
   "cell_type": "code",
   "execution_count": 11,
   "metadata": {},
   "outputs": [
    {
     "data": {
      "text/plain": [
       "[nan, 111560.0, nan, 111429.0, 301.0, nan, nan, nan, nan, nan, nan, nan, nan]"
      ]
     },
     "execution_count": 11,
     "metadata": {},
     "output_type": "execute_result"
    }
   ],
   "source": [
    "Result_dup_team_fifa_api_id.detect_values_data()"
   ]
  },
  {
   "cell_type": "markdown",
   "metadata": {},
   "source": [
    "#### Identify Outliers"
   ]
  },
  {
   "cell_type": "code",
   "execution_count": 12,
   "metadata": {},
   "outputs": [],
   "source": [
    "#Como não existem colunas quantitativas, não é necessário avaliação de outliers\n"
   ]
  },
  {
   "cell_type": "markdown",
   "metadata": {},
   "source": [
    "### Analyze  typing"
   ]
  },
  {
   "cell_type": "code",
   "execution_count": 13,
   "metadata": {},
   "outputs": [
    {
     "name": "stdout",
     "output_type": "stream",
     "text": [
      "<class 'pandas.core.frame.DataFrame'>\n",
      "RangeIndex: 299 entries, 0 to 298\n",
      "Data columns (total 5 columns):\n",
      " #   Column            Non-Null Count  Dtype  \n",
      "---  ------            --------------  -----  \n",
      " 0   id                299 non-null    int64  \n",
      " 1   team_api_id       299 non-null    int64  \n",
      " 2   team_fifa_api_id  288 non-null    float64\n",
      " 3   team_long_name    299 non-null    object \n",
      " 4   team_short_name   299 non-null    object \n",
      "dtypes: float64(1), int64(2), object(2)\n",
      "memory usage: 11.8+ KB\n"
     ]
    }
   ],
   "source": [
    "#analisando a tipagem esperada de forma geral\n",
    "Df.info()\n"
   ]
  },
  {
   "cell_type": "code",
   "execution_count": 14,
   "metadata": {},
   "outputs": [
    {
     "data": {
      "text/plain": [
       "{0: [673.0, 'same expected value between int and float typing'],\n",
       " 1: [675.0, 'same expected value between int and float typing'],\n",
       " 2: [15005.0, 'same expected value between int and float typing'],\n",
       " 3: [2007.0, 'same expected value between int and float typing'],\n",
       " 4: [1750.0, 'same expected value between int and float typing'],\n",
       " 5: [229.0, 'same expected value between int and float typing'],\n",
       " 6: [674.0, 'same expected value between int and float typing'],\n",
       " 7: [1747.0, 'same expected value between int and float typing'],\n",
       " 9: [232.0, 'same expected value between int and float typing'],\n",
       " 10: [110724.0, 'same expected value between int and float typing'],\n",
       " 11: [231.0, 'same expected value between int and float typing'],\n",
       " 12: [546.0, 'same expected value between int and float typing'],\n",
       " 13: [100081.0, 'same expected value between int and float typing'],\n",
       " 15: [111560.0, 'same expected value between int and float typing'],\n",
       " 16: [681.0, 'same expected value between int and float typing'],\n",
       " 17: [670.0, 'same expected value between int and float typing'],\n",
       " 18: [680.0, 'same expected value between int and float typing'],\n",
       " 19: [239.0, 'same expected value between int and float typing'],\n",
       " 20: [2013.0, 'same expected value between int and float typing'],\n",
       " 21: [100087.0, 'same expected value between int and float typing'],\n",
       " 22: [110913.0, 'same expected value between int and float typing'],\n",
       " 23: [682.0, 'same expected value between int and float typing'],\n",
       " 24: [111560.0, 'same expected value between int and float typing'],\n",
       " 25: [11.0, 'same expected value between int and float typing'],\n",
       " 26: [13.0, 'same expected value between int and float typing'],\n",
       " 27: [1.0, 'same expected value between int and float typing'],\n",
       " 28: [109.0, 'same expected value between int and float typing'],\n",
       " 29: [106.0, 'same expected value between int and float typing'],\n",
       " 30: [9.0, 'same expected value between int and float typing'],\n",
       " 31: [19.0, 'same expected value between int and float typing'],\n",
       " 32: [1917.0, 'same expected value between int and float typing'],\n",
       " 33: [2.0, 'same expected value between int and float typing'],\n",
       " 34: [10.0, 'same expected value between int and float typing'],\n",
       " 35: [7.0, 'same expected value between int and float typing'],\n",
       " 36: [3.0, 'same expected value between int and float typing'],\n",
       " 37: [12.0, 'same expected value between int and float typing'],\n",
       " 38: [18.0, 'same expected value between int and float typing'],\n",
       " 39: [4.0, 'same expected value between int and float typing'],\n",
       " 40: [1806.0, 'same expected value between int and float typing'],\n",
       " 41: [1952.0, 'same expected value between int and float typing'],\n",
       " 42: [144.0, 'same expected value between int and float typing'],\n",
       " 43: [5.0, 'same expected value between int and float typing'],\n",
       " 44: [1790.0, 'same expected value between int and float typing'],\n",
       " 45: [88.0, 'same expected value between int and float typing'],\n",
       " 46: [110.0, 'same expected value between int and float typing'],\n",
       " 47: [1796.0, 'same expected value between int and float typing'],\n",
       " 48: [1926.0, 'same expected value between int and float typing'],\n",
       " 49: [1960.0, 'same expected value between int and float typing'],\n",
       " 50: [15.0, 'same expected value between int and float typing'],\n",
       " 51: [1792.0, 'same expected value between int and float typing'],\n",
       " 52: [17.0, 'same expected value between int and float typing'],\n",
       " 53: [1793.0, 'same expected value between int and float typing'],\n",
       " 54: [1799.0, 'same expected value between int and float typing'],\n",
       " 55: [1961.0, 'same expected value between int and float typing'],\n",
       " 56: [95.0, 'same expected value between int and float typing'],\n",
       " 57: [1943.0, 'same expected value between int and float typing'],\n",
       " 58: [1795.0, 'same expected value between int and float typing'],\n",
       " 59: [57.0, 'same expected value between int and float typing'],\n",
       " 60: [71.0, 'same expected value between int and float typing'],\n",
       " 61: [59.0, 'same expected value between int and float typing'],\n",
       " 62: [210.0, 'same expected value between int and float typing'],\n",
       " 63: [1738.0, 'same expected value between int and float typing'],\n",
       " 64: [72.0, 'same expected value between int and float typing'],\n",
       " 65: [1739.0, 'same expected value between int and float typing'],\n",
       " 66: [217.0, 'same expected value between int and float typing'],\n",
       " 67: [66.0, 'same expected value between int and float typing'],\n",
       " 68: [1809.0, 'same expected value between int and float typing'],\n",
       " 69: [69.0, 'same expected value between int and float typing'],\n",
       " 70: [73.0, 'same expected value between int and float typing'],\n",
       " 71: [1823.0, 'same expected value between int and float typing'],\n",
       " 72: [65.0, 'same expected value between int and float typing'],\n",
       " 73: [74.0, 'same expected value between int and float typing'],\n",
       " 74: [219.0, 'same expected value between int and float typing'],\n",
       " 75: [226.0, 'same expected value between int and float typing'],\n",
       " 76: [1805.0, 'same expected value between int and float typing'],\n",
       " 77: [110456.0, 'same expected value between int and float typing'],\n",
       " 78: [1819.0, 'same expected value between int and float typing'],\n",
       " 79: [64.0, 'same expected value between int and float typing'],\n",
       " 80: [70.0, 'same expected value between int and float typing'],\n",
       " 81: [111376.0, 'same expected value between int and float typing'],\n",
       " 82: [111989.0, 'same expected value between int and float typing'],\n",
       " 83: [378.0, 'same expected value between int and float typing'],\n",
       " 84: [614.0, 'same expected value between int and float typing'],\n",
       " 85: [111271.0, 'same expected value between int and float typing'],\n",
       " 86: [110569.0, 'same expected value between int and float typing'],\n",
       " 87: [379.0, 'same expected value between int and float typing'],\n",
       " 88: [58.0, 'same expected value between int and float typing'],\n",
       " 89: [294.0, 'same expected value between int and float typing'],\n",
       " 90: [62.0, 'same expected value between int and float typing'],\n",
       " 91: [68.0, 'same expected value between int and float typing'],\n",
       " 92: [1530.0, 'same expected value between int and float typing'],\n",
       " 93: [110316.0, 'same expected value between int and float typing'],\n",
       " 94: [21.0, 'same expected value between int and float typing'],\n",
       " 95: [28.0, 'same expected value between int and float typing'],\n",
       " 96: [32.0, 'same expected value between int and float typing'],\n",
       " 97: [22.0, 'same expected value between int and float typing'],\n",
       " 98: [34.0, 'same expected value between int and float typing'],\n",
       " 99: [485.0, 'same expected value between int and float typing'],\n",
       " 100: [175.0, 'same expected value between int and float typing'],\n",
       " 101: [31.0, 'same expected value between int and float typing'],\n",
       " 102: [1824.0, 'same expected value between int and float typing'],\n",
       " 103: [166.0, 'same expected value between int and float typing'],\n",
       " 104: [159.0, 'same expected value between int and float typing'],\n",
       " 105: [38.0, 'same expected value between int and float typing'],\n",
       " 106: [162.0, 'same expected value between int and float typing'],\n",
       " 107: [10029.0, 'same expected value between int and float typing'],\n",
       " 108: [23.0, 'same expected value between int and float typing'],\n",
       " 109: [36.0, 'same expected value between int and float typing'],\n",
       " 110: [1832.0, 'same expected value between int and float typing'],\n",
       " 111: [160.0, 'same expected value between int and float typing'],\n",
       " 112: [25.0, 'same expected value between int and float typing'],\n",
       " 113: [171.0, 'same expected value between int and float typing'],\n",
       " 114: [169.0, 'same expected value between int and float typing'],\n",
       " 115: [29.0, 'same expected value between int and float typing'],\n",
       " 116: [110329.0, 'same expected value between int and float typing'],\n",
       " 117: [100409.0, 'same expected value between int and float typing'],\n",
       " 118: [110636.0, 'same expected value between int and float typing'],\n",
       " 119: [165.0, 'same expected value between int and float typing'],\n",
       " 120: [110500.0, 'same expected value between int and float typing'],\n",
       " 121: [10030.0, 'same expected value between int and float typing'],\n",
       " 122: [111239.0, 'same expected value between int and float typing'],\n",
       " 123: [110502.0, 'same expected value between int and float typing'],\n",
       " 124: [39.0, 'same expected value between int and float typing'],\n",
       " 125: [1838.0, 'same expected value between int and float typing'],\n",
       " 126: [1842.0, 'same expected value between int and float typing'],\n",
       " 127: [46.0, 'same expected value between int and float typing'],\n",
       " 128: [110364.0, 'same expected value between int and float typing'],\n",
       " 129: [110556.0, 'same expected value between int and float typing'],\n",
       " 130: [192.0, 'same expected value between int and float typing'],\n",
       " 131: [203.0, 'same expected value between int and float typing'],\n",
       " 132: [110374.0, 'same expected value between int and float typing'],\n",
       " 133: [45.0, 'same expected value between int and float typing'],\n",
       " 134: [47.0, 'same expected value between int and float typing'],\n",
       " 135: [189.0, 'same expected value between int and float typing'],\n",
       " 136: [52.0, 'same expected value between int and float typing'],\n",
       " 137: [48.0, 'same expected value between int and float typing'],\n",
       " 138: [1837.0, 'same expected value between int and float typing'],\n",
       " 139: [44.0, 'same expected value between int and float typing'],\n",
       " 140: [54.0, 'same expected value between int and float typing'],\n",
       " 141: [347.0, 'same expected value between int and float typing'],\n",
       " 142: [55.0, 'same expected value between int and float typing'],\n",
       " 143: [1843.0, 'same expected value between int and float typing'],\n",
       " 144: [1848.0, 'same expected value between int and float typing'],\n",
       " 145: [1844.0, 'same expected value between int and float typing'],\n",
       " 146: [50.0, 'same expected value between int and float typing'],\n",
       " 147: [110915.0, 'same expected value between int and float typing'],\n",
       " 148: [190.0, 'same expected value between int and float typing'],\n",
       " 149: [112225.0, 'same expected value between int and float typing'],\n",
       " 150: [200.0, 'same expected value between int and float typing'],\n",
       " 151: [206.0, 'same expected value between int and float typing'],\n",
       " 152: [111974.0, 'same expected value between int and float typing'],\n",
       " 153: [1746.0, 'same expected value between int and float typing'],\n",
       " 154: [111657.0, 'same expected value between int and float typing'],\n",
       " 155: [112409.0, 'same expected value between int and float typing'],\n",
       " 156: [1909.0, 'same expected value between int and float typing'],\n",
       " 157: [1915.0, 'same expected value between int and float typing'],\n",
       " 158: [1902.0, 'same expected value between int and float typing'],\n",
       " 159: [1908.0, 'same expected value between int and float typing'],\n",
       " 160: [1907.0, 'same expected value between int and float typing'],\n",
       " 161: [245.0, 'same expected value between int and float typing'],\n",
       " 162: [1910.0, 'same expected value between int and float typing'],\n",
       " 163: [635.0, 'same expected value between int and float typing'],\n",
       " 164: [1903.0, 'same expected value between int and float typing'],\n",
       " 165: [247.0, 'same expected value between int and float typing'],\n",
       " 166: [100634.0, 'same expected value between int and float typing'],\n",
       " 167: [246.0, 'same expected value between int and float typing'],\n",
       " 168: [100646.0, 'same expected value between int and float typing'],\n",
       " 169: [650.0, 'same expected value between int and float typing'],\n",
       " 171: [1913.0, 'same expected value between int and float typing'],\n",
       " 172: [1906.0, 'same expected value between int and float typing'],\n",
       " 173: [1904.0, 'same expected value between int and float typing'],\n",
       " 174: [1905.0, 'same expected value between int and float typing'],\n",
       " 175: [100651.0, 'same expected value between int and float typing'],\n",
       " 176: [1971.0, 'same expected value between int and float typing'],\n",
       " 177: [1914.0, 'same expected value between int and float typing'],\n",
       " 178: [647.0, 'same expected value between int and float typing'],\n",
       " 179: [100632.0, 'same expected value between int and float typing'],\n",
       " 180: [100626.0, 'same expected value between int and float typing'],\n",
       " 181: [1873.0, 'same expected value between int and float typing'],\n",
       " 182: [111429.0, 'same expected value between int and float typing'],\n",
       " 183: [111429.0, 'same expected value between int and float typing'],\n",
       " 184: [874.0, 'same expected value between int and float typing'],\n",
       " 185: [1871.0, 'same expected value between int and float typing'],\n",
       " 186: [1570.0, 'same expected value between int and float typing'],\n",
       " 187: [111092.0, 'same expected value between int and float typing'],\n",
       " 188: [111091.0, 'same expected value between int and float typing'],\n",
       " 189: [301.0, 'same expected value between int and float typing'],\n",
       " 190: [1564.0, 'same expected value between int and float typing'],\n",
       " 191: [873.0, 'same expected value between int and float typing'],\n",
       " 192: [110744.0, 'same expected value between int and float typing'],\n",
       " 193: [111082.0, 'same expected value between int and float typing'],\n",
       " 194: [110745.0, 'same expected value between int and float typing'],\n",
       " 195: [111086.0, 'same expected value between int and float typing'],\n",
       " 196: [110747.0, 'same expected value between int and float typing'],\n",
       " 197: [111083.0, 'same expected value between int and float typing'],\n",
       " 198: [110749.0, 'same expected value between int and float typing'],\n",
       " 199: [301.0, 'same expected value between int and float typing'],\n",
       " 200: [111087.0, 'same expected value between int and float typing'],\n",
       " 201: [110746.0, 'same expected value between int and float typing'],\n",
       " 202: [112512.0, 'same expected value between int and float typing'],\n",
       " 203: [110565.0, 'same expected value between int and float typing'],\n",
       " 205: [236.0, 'same expected value between int and float typing'],\n",
       " 206: [1889.0, 'same expected value between int and float typing'],\n",
       " 207: [237.0, 'same expected value between int and float typing'],\n",
       " 209: [1887.0, 'same expected value between int and float typing'],\n",
       " 210: [665.0, 'same expected value between int and float typing'],\n",
       " 211: [1892.0, 'same expected value between int and float typing'],\n",
       " 212: [1896.0, 'same expected value between int and float typing'],\n",
       " 214: [1901.0, 'same expected value between int and float typing'],\n",
       " 215: [744.0, 'same expected value between int and float typing'],\n",
       " 216: [234.0, 'same expected value between int and float typing'],\n",
       " 217: [10018.0, 'same expected value between int and float typing'],\n",
       " 218: [1891.0, 'same expected value between int and float typing'],\n",
       " 219: [100737.0, 'same expected value between int and float typing'],\n",
       " 220: [1893.0, 'same expected value between int and float typing'],\n",
       " 221: [1895.0, 'same expected value between int and float typing'],\n",
       " 222: [111540.0, 'same expected value between int and float typing'],\n",
       " 224: [1897.0, 'same expected value between int and float typing'],\n",
       " 226: [1888.0, 'same expected value between int and float typing'],\n",
       " 227: [1900.0, 'same expected value between int and float typing'],\n",
       " 228: [10020.0, 'same expected value between int and float typing'],\n",
       " 229: [112513.0, 'same expected value between int and float typing'],\n",
       " 230: [100741.0, 'same expected value between int and float typing'],\n",
       " 231: [1898.0, 'same expected value between int and float typing'],\n",
       " 234: [79.0, 'same expected value between int and float typing'],\n",
       " 235: [86.0, 'same expected value between int and float typing'],\n",
       " 236: [80.0, 'same expected value between int and float typing'],\n",
       " 237: [83.0, 'same expected value between int and float typing'],\n",
       " 238: [82.0, 'same expected value between int and float typing'],\n",
       " 239: [81.0, 'same expected value between int and float typing'],\n",
       " 240: [77.0, 'same expected value between int and float typing'],\n",
       " 241: [620.0, 'same expected value between int and float typing'],\n",
       " 242: [78.0, 'same expected value between int and float typing'],\n",
       " 243: [100805.0, 'same expected value between int and float typing'],\n",
       " 244: [184.0, 'same expected value between int and float typing'],\n",
       " 245: [181.0, 'same expected value between int and float typing'],\n",
       " 246: [100804.0, 'same expected value between int and float typing'],\n",
       " 247: [182.0, 'same expected value between int and float typing'],\n",
       " 248: [180.0, 'same expected value between int and float typing'],\n",
       " 249: [631.0, 'same expected value between int and float typing'],\n",
       " 250: [1754.0, 'same expected value between int and float typing'],\n",
       " 251: [461.0, 'same expected value between int and float typing'],\n",
       " 252: [453.0, 'same expected value between int and float typing'],\n",
       " 253: [479.0, 'same expected value between int and float typing'],\n",
       " 254: [483.0, 'same expected value between int and float typing'],\n",
       " 255: [242.0, 'same expected value between int and float typing'],\n",
       " 256: [243.0, 'same expected value between int and float typing'],\n",
       " 257: [477.0, 'same expected value between int and float typing'],\n",
       " 258: [241.0, 'same expected value between int and float typing'],\n",
       " 259: [456.0, 'same expected value between int and float typing'],\n",
       " 260: [481.0, 'same expected value between int and float typing'],\n",
       " 261: [459.0, 'same expected value between int and float typing'],\n",
       " 262: [1860.0, 'same expected value between int and float typing'],\n",
       " 263: [449.0, 'same expected value between int and float typing'],\n",
       " 264: [571.0, 'same expected value between int and float typing'],\n",
       " 265: [452.0, 'same expected value between int and float typing'],\n",
       " 266: [462.0, 'same expected value between int and float typing'],\n",
       " 267: [448.0, 'same expected value between int and float typing'],\n",
       " 268: [1861.0, 'same expected value between int and float typing'],\n",
       " 269: [240.0, 'same expected value between int and float typing'],\n",
       " 270: [573.0, 'same expected value between int and float typing'],\n",
       " 271: [1742.0, 'same expected value between int and float typing'],\n",
       " 272: [244.0, 'same expected value between int and float typing'],\n",
       " 273: [260.0, 'same expected value between int and float typing'],\n",
       " 274: [100879.0, 'same expected value between int and float typing'],\n",
       " 275: [1853.0, 'same expected value between int and float typing'],\n",
       " 276: [457.0, 'same expected value between int and float typing'],\n",
       " 277: [110832.0, 'same expected value between int and float typing'],\n",
       " 278: [480.0, 'same expected value between int and float typing'],\n",
       " 279: [450.0, 'same expected value between int and float typing'],\n",
       " 280: [468.0, 'same expected value between int and float typing'],\n",
       " 281: [467.0, 'same expected value between int and float typing'],\n",
       " 282: [1867.0, 'same expected value between int and float typing'],\n",
       " 283: [472.0, 'same expected value between int and float typing'],\n",
       " 284: [322.0, 'same expected value between int and float typing'],\n",
       " 285: [1714.0, 'same expected value between int and float typing'],\n",
       " 286: [900.0, 'same expected value between int and float typing'],\n",
       " 287: [896.0, 'same expected value between int and float typing'],\n",
       " 288: [434.0, 'same expected value between int and float typing'],\n",
       " 289: [110770.0, 'same expected value between int and float typing'],\n",
       " 290: [897.0, 'same expected value between int and float typing'],\n",
       " 291: [286.0, 'same expected value between int and float typing'],\n",
       " 292: [435.0, 'same expected value between int and float typing'],\n",
       " 293: [894.0, 'same expected value between int and float typing'],\n",
       " 294: [898.0, 'same expected value between int and float typing'],\n",
       " 295: [1715.0, 'same expected value between int and float typing'],\n",
       " 296: [324.0, 'same expected value between int and float typing'],\n",
       " 297: [1862.0, 'same expected value between int and float typing']}"
      ]
     },
     "execution_count": 14,
     "metadata": {},
     "output_type": "execute_result"
    }
   ],
   "source": [
    "#Como ids sob tipagem numérica são geralmente representados por inteiros,logo é necessário avaliar a coluna team_fifa_api_id por estar como float64\n",
    "\n",
    "Results_analysis.analyze_typing_expected_number(expected_type_number='int',name_column='team_fifa_api_id')\n"
   ]
  },
  {
   "cell_type": "code",
   "execution_count": 15,
   "metadata": {},
   "outputs": [
    {
     "name": "stdout",
     "output_type": "stream",
     "text": [
      "True\n"
     ]
    }
   ],
   "source": [
    "#avaliando se todos os dados seguem com a mesma quantidade de validações entre float e int, considerando também os NaNs\n",
    "\n",
    "cont_float_and_int=len(Results_analysis.analyze_typing_expected_number(expected_type_number='int',name_column='team_fifa_api_id'))\n",
    "print(cont_float_and_int+Df['team_fifa_api_id'].isna().sum()==(Df['team_fifa_api_id'].shape[0]))"
   ]
  },
  {
   "cell_type": "code",
   "execution_count": 16,
   "metadata": {},
   "outputs": [
    {
     "data": {
      "text/plain": [
       "[]"
      ]
     },
     "execution_count": 16,
     "metadata": {},
     "output_type": "execute_result"
    }
   ],
   "source": [
    "#confirmando se todos os dados estão vindo como str para as colunas team_long_name e team_short_name\n",
    "\n",
    "Results_analysis.confirm_typing(name_column='team_long_name',type_expected='str')\n"
   ]
  },
  {
   "cell_type": "code",
   "execution_count": 17,
   "metadata": {},
   "outputs": [
    {
     "data": {
      "text/plain": [
       "[]"
      ]
     },
     "execution_count": 17,
     "metadata": {},
     "output_type": "execute_result"
    }
   ],
   "source": [
    "Results_analysis.confirm_typing(name_column='team_short_name',type_expected='str')\n",
    "\n",
    "##Como as listas vieram vazias, todos os dados estão coerentes como str"
   ]
  },
  {
   "cell_type": "markdown",
   "metadata": {},
   "source": [
    "### Data transform "
   ]
  },
  {
   "cell_type": "code",
   "execution_count": 18,
   "metadata": {},
   "outputs": [],
   "source": [
    "#Instânciando o Df para a classe DataCleaning\n",
    "\n",
    "Data_cleaning=DataTransform(dataframe_to_transform=Df)"
   ]
  },
  {
   "cell_type": "markdown",
   "metadata": {},
   "source": [
    "#### Remove(or not) NaNs"
   ]
  },
  {
   "cell_type": "code",
   "execution_count": 19,
   "metadata": {},
   "outputs": [
    {
     "data": {
      "text/plain": [
       "{'id': 0, 'team_api_id': 0, 'team_fifa_api_id': 3.678929765886288}"
      ]
     },
     "execution_count": 19,
     "metadata": {},
     "output_type": "execute_result"
    }
   ],
   "source": [
    "# partindo do pressuposto de que as colunas identificadoras (id, team_api_id e team_fifa_api_id)  não podem ter valores NaNs, é preciso remove-los\n",
    "#Por possuirem valores distintos e não apresentam uma progressão lógica neste caso, além de serem propriamente identificadores\n",
    "\n",
    "#Logo, assumiremos a remoção, haja vista que a proporção de NaNs próximos ou abaixo de 5 %  servirá como parâmetro para remoção \n",
    "Results_analysis.count_nans(name_columns=['id','team_api_id','team_fifa_api_id'])"
   ]
  },
  {
   "cell_type": "code",
   "execution_count": 20,
   "metadata": {},
   "outputs": [
    {
     "data": {
      "text/html": [
       "<div>\n",
       "<style scoped>\n",
       "    .dataframe tbody tr th:only-of-type {\n",
       "        vertical-align: middle;\n",
       "    }\n",
       "\n",
       "    .dataframe tbody tr th {\n",
       "        vertical-align: top;\n",
       "    }\n",
       "\n",
       "    .dataframe thead th {\n",
       "        text-align: right;\n",
       "    }\n",
       "</style>\n",
       "<table border=\"1\" class=\"dataframe\">\n",
       "  <thead>\n",
       "    <tr style=\"text-align: right;\">\n",
       "      <th></th>\n",
       "      <th>id</th>\n",
       "      <th>team_api_id</th>\n",
       "      <th>team_fifa_api_id</th>\n",
       "      <th>team_long_name</th>\n",
       "      <th>team_short_name</th>\n",
       "    </tr>\n",
       "  </thead>\n",
       "  <tbody>\n",
       "    <tr>\n",
       "      <th>0</th>\n",
       "      <td>1</td>\n",
       "      <td>9987</td>\n",
       "      <td>673.0</td>\n",
       "      <td>KRC Genk</td>\n",
       "      <td>GEN</td>\n",
       "    </tr>\n",
       "    <tr>\n",
       "      <th>1</th>\n",
       "      <td>2</td>\n",
       "      <td>9993</td>\n",
       "      <td>675.0</td>\n",
       "      <td>Beerschot AC</td>\n",
       "      <td>BAC</td>\n",
       "    </tr>\n",
       "    <tr>\n",
       "      <th>2</th>\n",
       "      <td>3</td>\n",
       "      <td>10000</td>\n",
       "      <td>15005.0</td>\n",
       "      <td>SV Zulte-Waregem</td>\n",
       "      <td>ZUL</td>\n",
       "    </tr>\n",
       "    <tr>\n",
       "      <th>3</th>\n",
       "      <td>4</td>\n",
       "      <td>9994</td>\n",
       "      <td>2007.0</td>\n",
       "      <td>Sporting Lokeren</td>\n",
       "      <td>LOK</td>\n",
       "    </tr>\n",
       "    <tr>\n",
       "      <th>4</th>\n",
       "      <td>5</td>\n",
       "      <td>9984</td>\n",
       "      <td>1750.0</td>\n",
       "      <td>KSV Cercle Brugge</td>\n",
       "      <td>CEB</td>\n",
       "    </tr>\n",
       "    <tr>\n",
       "      <th>...</th>\n",
       "      <td>...</td>\n",
       "      <td>...</td>\n",
       "      <td>...</td>\n",
       "      <td>...</td>\n",
       "      <td>...</td>\n",
       "    </tr>\n",
       "    <tr>\n",
       "      <th>283</th>\n",
       "      <td>49124</td>\n",
       "      <td>10243</td>\n",
       "      <td>894.0</td>\n",
       "      <td>FC Zürich</td>\n",
       "      <td>ZUR</td>\n",
       "    </tr>\n",
       "    <tr>\n",
       "      <th>284</th>\n",
       "      <td>49479</td>\n",
       "      <td>10190</td>\n",
       "      <td>898.0</td>\n",
       "      <td>FC St. Gallen</td>\n",
       "      <td>GAL</td>\n",
       "    </tr>\n",
       "    <tr>\n",
       "      <th>285</th>\n",
       "      <td>49837</td>\n",
       "      <td>10191</td>\n",
       "      <td>1715.0</td>\n",
       "      <td>FC Thun</td>\n",
       "      <td>THU</td>\n",
       "    </tr>\n",
       "    <tr>\n",
       "      <th>286</th>\n",
       "      <td>50201</td>\n",
       "      <td>9777</td>\n",
       "      <td>324.0</td>\n",
       "      <td>Servette FC</td>\n",
       "      <td>SER</td>\n",
       "    </tr>\n",
       "    <tr>\n",
       "      <th>287</th>\n",
       "      <td>50204</td>\n",
       "      <td>7730</td>\n",
       "      <td>1862.0</td>\n",
       "      <td>FC Lausanne-Sports</td>\n",
       "      <td>LAU</td>\n",
       "    </tr>\n",
       "  </tbody>\n",
       "</table>\n",
       "<p>288 rows × 5 columns</p>\n",
       "</div>"
      ],
      "text/plain": [
       "        id  team_api_id  team_fifa_api_id      team_long_name team_short_name\n",
       "0        1         9987             673.0            KRC Genk             GEN\n",
       "1        2         9993             675.0        Beerschot AC             BAC\n",
       "2        3        10000           15005.0    SV Zulte-Waregem             ZUL\n",
       "3        4         9994            2007.0    Sporting Lokeren             LOK\n",
       "4        5         9984            1750.0   KSV Cercle Brugge             CEB\n",
       "..     ...          ...               ...                 ...             ...\n",
       "283  49124        10243             894.0           FC Zürich             ZUR\n",
       "284  49479        10190             898.0       FC St. Gallen             GAL\n",
       "285  49837        10191            1715.0             FC Thun             THU\n",
       "286  50201         9777             324.0         Servette FC             SER\n",
       "287  50204         7730            1862.0  FC Lausanne-Sports             LAU\n",
       "\n",
       "[288 rows x 5 columns]"
      ]
     },
     "execution_count": 20,
     "metadata": {},
     "output_type": "execute_result"
    }
   ],
   "source": [
    "#Removendo os NaNs dos team_fifa_api_id\n",
    "\n",
    "Data_cleaning.remove_nans(name_columns=['team_fifa_api_id'])"
   ]
  },
  {
   "cell_type": "markdown",
   "metadata": {},
   "source": [
    "#### Remove(or not) Duplicated\n"
   ]
  },
  {
   "cell_type": "code",
   "execution_count": 21,
   "metadata": {},
   "outputs": [],
   "source": [
    "#removendo os dados duplicados de team_fifa_api_id\n",
    "\n",
    "Data_Transf=Data_cleaning.remove_dup(name_columns=['team_fifa_api_id'])"
   ]
  },
  {
   "cell_type": "markdown",
   "metadata": {},
   "source": [
    "#### Data Typing "
   ]
  },
  {
   "cell_type": "code",
   "execution_count": 22,
   "metadata": {},
   "outputs": [],
   "source": [
    "#Transformando a coluna Team_fifa_api_id em int\n",
    "Data_Transf=Data_cleaning.transf_typing(name_columns=['team_fifa_api_id'],type_expected='int')"
   ]
  },
  {
   "cell_type": "markdown",
   "metadata": {},
   "source": [
    "### Load CSV"
   ]
  },
  {
   "cell_type": "code",
   "execution_count": 23,
   "metadata": {},
   "outputs": [],
   "source": [
    "Df_load=LoadCsvs(dataframe=Data_Transf,new_folder='Load_csvs',name_dataframe='Team',folder_name=Data_frame.folder_name)"
   ]
  },
  {
   "cell_type": "code",
   "execution_count": 24,
   "metadata": {},
   "outputs": [],
   "source": [
    "Df_load.load_csv"
   ]
  }
 ],
 "metadata": {
  "kernelspec": {
   "display_name": "Python 3.9.7 ('base')",
   "language": "python",
   "name": "python3"
  },
  "language_info": {
   "codemirror_mode": {
    "name": "ipython",
    "version": 3
   },
   "file_extension": ".py",
   "mimetype": "text/x-python",
   "name": "python",
   "nbconvert_exporter": "python",
   "pygments_lexer": "ipython3",
   "version": "3.9.7"
  },
  "orig_nbformat": 4,
  "vscode": {
   "interpreter": {
    "hash": "03807dcc214718de3fef1abbc62da4d562d2ddd650787426faadb17d03c3a4b6"
   }
  }
 },
 "nbformat": 4,
 "nbformat_minor": 2
}
